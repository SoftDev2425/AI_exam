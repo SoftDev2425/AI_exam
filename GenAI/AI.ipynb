{
 "cells": [
  {
   "cell_type": "code",
   "execution_count": 1,
   "id": "18370816-b759-42e6-88e2-b65e56131c8b",
   "metadata": {},
   "outputs": [],
   "source": [
    "import torch"
   ]
  },
  {
   "cell_type": "code",
   "execution_count": 2,
   "id": "cbfbfebf-3340-4160-8ddf-95ab4481db10",
   "metadata": {},
   "outputs": [],
   "source": [
    "import pandas as pd"
   ]
  },
  {
   "cell_type": "code",
   "execution_count": 3,
   "id": "ff8a3612-c6cc-401d-b3bf-832a18109173",
   "metadata": {},
   "outputs": [],
   "source": [
    "import langdetect\n",
    "from langdetect import DetectorFactory, detect, detect_langs"
   ]
  },
  {
   "cell_type": "code",
   "execution_count": 4,
   "id": "9d2e46cd-dbcd-4f46-9f08-2cdc93d34a52",
   "metadata": {},
   "outputs": [],
   "source": [
    "from langchain.callbacks.manager import CallbackManager\n",
    "from langchain.callbacks.streaming_stdout import StreamingStdOutCallbackHandler"
   ]
  },
  {
   "cell_type": "code",
   "execution_count": 5,
   "id": "c7f31be9-94ee-4bfc-adfb-82ffd2811536",
   "metadata": {},
   "outputs": [],
   "source": [
    "from langchain.docstore.document import Document\n",
    "from langchain.text_splitter import RecursiveCharacterTextSplitter\n",
    "from langchain.vectorstores import Chroma\n",
    "from langchain.chains import ConversationalRetrievalChain\n",
    "from langchain.memory import ConversationBufferMemory\n",
    "from langchain.prompts import PromptTemplate"
   ]
  },
  {
   "cell_type": "code",
   "execution_count": 6,
   "id": "66cc012a-a989-4187-9c2b-e35ca10fff7e",
   "metadata": {},
   "outputs": [],
   "source": [
    "from langchain.embeddings import HuggingFaceEmbeddings"
   ]
  },
  {
   "cell_type": "code",
   "execution_count": 7,
   "id": "9dcc0a7f-11d9-46d7-aa57-4ad664f3b29e",
   "metadata": {},
   "outputs": [],
   "source": [
    "from langchain import HuggingFacePipeline\n",
    "from langchain.chains import RetrievalQA"
   ]
  },
  {
   "cell_type": "code",
   "execution_count": 8,
   "id": "7516500f-a17a-4756-9338-23a5ae4d80f2",
   "metadata": {},
   "outputs": [],
   "source": [
    "import myloadlib\n",
    "from myloadlib import loadDir, loadFile, loadWiki, loadYoutube, readAPI"
   ]
  },
  {
   "cell_type": "code",
   "execution_count": 9,
   "id": "d2b5807c-5122-4999-a28e-e59d4aa6aa41",
   "metadata": {},
   "outputs": [
    {
     "data": {
      "text/plain": [
       "<module 'myloadlib' from '/Users/owaisdashti/Software2425/exams/AI_Exam/GenAI/myloadlib.py'>"
      ]
     },
     "execution_count": 9,
     "metadata": {},
     "output_type": "execute_result"
    }
   ],
   "source": [
    "import importlib\n",
    "importlib.reload(myloadlib)"
   ]
  },
  {
   "cell_type": "code",
   "execution_count": 10,
   "id": "ece1dd52-5222-47ba-b539-7eda4043e6d0",
   "metadata": {},
   "outputs": [],
   "source": [
    "documents = []"
   ]
  },
  {
   "cell_type": "markdown",
   "id": "2056d042-3b81-4407-983c-2649b688e72c",
   "metadata": {},
   "source": [
    "# Loading Webpage"
   ]
  },
  {
   "cell_type": "code",
   "execution_count": 11,
   "id": "a2b49506-8f00-45ad-97a4-8a049bdaba78",
   "metadata": {},
   "outputs": [],
   "source": [
    "from langchain.document_loaders import WebBaseLoader"
   ]
  },
  {
   "cell_type": "code",
   "execution_count": 12,
   "id": "cca5c734-90b1-4a7f-9629-7f41c29c8f88",
   "metadata": {},
   "outputs": [],
   "source": [
    "# Load Webpage\n",
    "def loadWeb(url):\n",
    "    loader = WebBaseLoader(url)\n",
    "    docs = loader.load()\n",
    "    return docs"
   ]
  },
  {
   "cell_type": "code",
   "execution_count": 13,
   "id": "903064da-6441-41ae-85aa-f62db79930ec",
   "metadata": {},
   "outputs": [],
   "source": [
    "def loadManyWebs(urls):\n",
    "    all_docs = []\n",
    "    for url in urls:\n",
    "        loader = WebBaseLoader(url)\n",
    "        docs = loader.load()\n",
    "        all_docs.extend(docs)\n",
    "    return all_docs"
   ]
  },
  {
   "cell_type": "code",
   "execution_count": 14,
   "id": "2d1385e3-0c5e-4a1f-90cb-b4ffe136ded1",
   "metadata": {},
   "outputs": [],
   "source": [
    "urls = ['https://www.boligsiden.dk/adresse/niels-bohrs-vej-35a-8260-viby-j-07515829_35a_______?udbud=921aad54-6713-4809-ab12-ed4125ea0b39',\n",
    "        'https://www.boligsiden.dk/adresse/tousvej-18-8230-aabyhoej-07518710__18_______?udbud=6a9d2e48-3f03-4b3e-a786-6870b1422c6a',\n",
    "        'https://www.boligsiden.dk/adresse/solbakken-6-8450-hammel-07100941___6_______?udbud=f40b5be4-67fb-4298-a9cb-ed0be40a23da',\n",
    "        'https://www.boligsiden.dk/adresse/markedsgade-4-9760-vraa-08602201___4_______?udbud=239de4f1-abaf-40e9-a8b1-53e3f8cf71c1',\n",
    "        'https://www.boligsiden.dk/adresse/kongensbrovej-21-8881-thorsoe-07100537__21_______?udbud=7c0b1160-b42e-4f1e-86f8-fd21a9881bb2',\n",
    "        'https://www.boligsiden.dk/adresse/blichersvej-7-8620-kjellerup-07400128___7_______?udbud=feb28f55-181c-4f51-bc07-9d99fef4d00b',\n",
    "        'https://www.boligsiden.dk/adresse/gurrevej-407a-3490-kvistgaard-02172600407a_______?udbud=dd9dbef5-cbb6-4692-89c9-2edf7e4a13df',\n",
    "       'https://www.dingeo.dk/adresse/3000-helsing%C3%B8r/nordre%20strandvej-72a/','https://www.dingeo.dk/adresse/3000-helsing%C3%B8r/sophie%20brahes%20gade-3a/1-tv/',\n",
    "        'https://www.dingeo.dk/adresse/3000-helsing%C3%B8r/allegade-10d/st-tv/','https://www.dingeo.dk/adresse/3000-helsing%C3%B8r/esrumvej-105/',\n",
    "        'https://www.dingeo.dk/adresse/3000-helsing%C3%B8r/gefionsvej-52/', 'https://www.dingeo.dk/adresse/3000-helsing%C3%B8r/torvegade-1c/1-th/', \n",
    "        'https://www.dingeo.dk/adresse/3000-helsing%C3%B8r/glentevej-23/', 'https://www.dingeo.dk/adresse/3000-helsing%C3%B8r/kristineh%C3%B8jvej-23/'\n",
    "       ]"
   ]
  },
  {
   "cell_type": "code",
   "execution_count": 15,
   "id": "506f18eb-640f-48fc-baf3-bc707eb3d8d4",
   "metadata": {},
   "outputs": [],
   "source": [
    "docs = loadManyWebs(urls)"
   ]
  },
  {
   "cell_type": "code",
   "execution_count": 16,
   "id": "88bfad51-0928-4299-baec-8f6e6e810ef9",
   "metadata": {},
   "outputs": [],
   "source": [
    "documents.extend(docs)"
   ]
  },
  {
   "cell_type": "code",
   "execution_count": 17,
   "id": "6d25fe4f-3dcd-469d-999a-432b35cc5033",
   "metadata": {},
   "outputs": [
    {
     "data": {
      "text/plain": [
       "15"
      ]
     },
     "execution_count": 17,
     "metadata": {},
     "output_type": "execute_result"
    }
   ],
   "source": [
    "len(documents)"
   ]
  },
  {
   "cell_type": "code",
   "execution_count": 18,
   "id": "ef08e7e2-4259-4889-8e8c-685f27062713",
   "metadata": {},
   "outputs": [
    {
     "data": {
      "text/plain": [
       "'Til salg: Niels Bohrs Vej 35A, Viby J - Villa på 205 m² - BoligsidenOpen main menuSøg boligBoliger til salg og lejeBoliger til salgLejeboligerTvangsauktionerLandbrugVærktøjer og guidesStatistik på priser og liggetidPriser på solgte boligerGuides til boligkøbFakta om alle boliger i DanmarkSe ejendomsvurderinger på kortFind mæglerHjælp til boligsalgFind mægler og se nøgletalStatistik på priser og liggetidSe priser på solgte boligerGuidesVælg den rigtige ejendomsmæglerGuides til boligsalgGør din bo'"
      ]
     },
     "execution_count": 18,
     "metadata": {},
     "output_type": "execute_result"
    }
   ],
   "source": [
    "documents[0].page_content[:500]"
   ]
  },
  {
   "cell_type": "code",
   "execution_count": 19,
   "id": "7f991075-4cce-42bf-9f26-508a9ea7a34c",
   "metadata": {},
   "outputs": [
    {
     "data": {
      "text/plain": [
       "{'source': 'https://www.boligsiden.dk/adresse/niels-bohrs-vej-35a-8260-viby-j-07515829_35a_______?udbud=921aad54-6713-4809-ab12-ed4125ea0b39',\n",
       " 'title': 'Til salg: Niels Bohrs Vej 35A, Viby J - Villa på 205 m² - Boligsiden',\n",
       " 'description': 'Niels Bohrs Vej 35A, 8260 Viby J. Ekstraordinær Funkisvilla i Fysikerkvarteret, Kongsvang\\nDrømmer du om at bo i en moderne, lavenergivindende bolig m',\n",
       " 'language': 'da'}"
      ]
     },
     "execution_count": 19,
     "metadata": {},
     "output_type": "execute_result"
    }
   ],
   "source": [
    "documents[0].metadata"
   ]
  },
  {
   "cell_type": "markdown",
   "id": "60079dfa-93dc-4008-a275-4d7d236e7826",
   "metadata": {},
   "source": [
    "# Transforming text to prepare if for AI processing."
   ]
  },
  {
   "cell_type": "code",
   "execution_count": 20,
   "id": "28e43e64-2c10-40fd-af01-fb292cafe6d9",
   "metadata": {},
   "outputs": [],
   "source": [
    "import myutils\n",
    "from myutils import chunkDocs, langDetect, wordCloud "
   ]
  },
  {
   "cell_type": "code",
   "execution_count": 21,
   "id": "a34bded0-b6bd-4f4d-bc9d-b347aafb0894",
   "metadata": {},
   "outputs": [
    {
     "data": {
      "text/plain": [
       "<module 'myutils' from '/Users/owaisdashti/Software2425/exams/AI_Exam/GenAI/myutils.py'>"
      ]
     },
     "execution_count": 21,
     "metadata": {},
     "output_type": "execute_result"
    }
   ],
   "source": [
    "importlib.reload(myutils)"
   ]
  },
  {
   "cell_type": "code",
   "execution_count": 22,
   "id": "d8b977df-70ab-42cf-aa51-a8cf493efb18",
   "metadata": {
    "scrolled": true
   },
   "outputs": [
    {
     "data": {
      "text/plain": [
       "[Document(page_content='Til salg: Niels Bohrs Vej 35A, Viby J - Villa på 205 m² - BoligsidenOpen main menuSøg boligBoliger til salg og lejeBoliger til salgLejeboligerTvangsauktionerLandbrugVærktøjer og guidesStatistik på priser og liggetidPriser på solgte boligerGuides til boligkøbFakta om alle boliger i DanmarkSe ejendomsvurderinger på kortFind mæglerHjælp til', metadata={'source': 'https://www.boligsiden.dk/adresse/niels-bohrs-vej-35a-8260-viby-j-07515829_35a_______?udbud=921aad54-6713-4809-ab12-ed4125ea0b39', 'title': 'Til salg: Niels Bohrs Vej 35A, Viby J - Villa på 205 m² - Boligsiden', 'description': 'Niels Bohrs Vej 35A, 8260 Viby J. Ekstraordinær Funkisvilla i Fysikerkvarteret, Kongsvang\\nDrømmer du om at bo i en moderne, lavenergivindende bolig m', 'language': 'da'}),\n",
       " Document(page_content='boligsalgFind mægler og se nøgletalStatistik på priser og liggetidSe priser på solgte boligerGuidesVælg den rigtige ejendomsmæglerGuides til boligsalgGør din bolig salgsklarBoligstatistikNyhederNyheder om boligmarkedetSeneste nyhederBoligsidens podcastTilmeld nyhedsbrevSøg i arkivetGuides til', metadata={'source': 'https://www.boligsiden.dk/adresse/niels-bohrs-vej-35a-8260-viby-j-07515829_35a_______?udbud=921aad54-6713-4809-ab12-ed4125ea0b39', 'title': 'Til salg: Niels Bohrs Vej 35A, Viby J - Villa på 205 m² - Boligsiden', 'description': 'Niels Bohrs Vej 35A, 8260 Viby J. Ekstraordinær Funkisvilla i Fysikerkvarteret, Kongsvang\\nDrømmer du om at bo i en moderne, lavenergivindende bolig m', 'language': 'da'}),\n",
       " Document(page_content='bolighandelBoligkøbBoligsalgBoligøkonomiNybyggeriRenoveringAlle guidesTil pressenPressemeddelelserPressekontaktMarkedsindeksLog indLog indFor mæglereØstjylland|Viby JOversigtPris og udviklingBoligen og grundenOmrådeNiels Bohrs Vej 35A8260 Viby Jheart-oKortSe 5 billederSe flere billeder hos mæglerNiels Bohrs Vej 35A8260 Viby JEnergimærke', metadata={'source': 'https://www.boligsiden.dk/adresse/niels-bohrs-vej-35a-8260-viby-j-07515829_35a_______?udbud=921aad54-6713-4809-ab12-ed4125ea0b39', 'title': 'Til salg: Niels Bohrs Vej 35A, Viby J - Villa på 205 m² - Boligsiden', 'description': 'Niels Bohrs Vej 35A, 8260 Viby J. Ekstraordinær Funkisvilla i Fysikerkvarteret, Kongsvang\\nDrømmer du om at bo i en moderne, lavenergivindende bolig m', 'language': 'da'}),\n",
       " Document(page_content='A2010VillaSe 5billederKortEkstraordinær Funkisvilla i Fysikerkvarteret, KongsvangEkstraordinær Funkisvilla i Fysikerkvarteret, Kongsvang', metadata={'source': 'https://www.boligsiden.dk/adresse/niels-bohrs-vej-35a-8260-viby-j-07515829_35a_______?udbud=921aad54-6713-4809-ab12-ed4125ea0b39', 'title': 'Til salg: Niels Bohrs Vej 35A, Viby J - Villa på 205 m² - Boligsiden', 'description': 'Niels Bohrs Vej 35A, 8260 Viby J. Ekstraordinær Funkisvilla i Fysikerkvarteret, Kongsvang\\nDrømmer du om at bo i en moderne, lavenergivindende bolig m', 'language': 'da'}),\n",
       " Document(page_content='Drømmer du om at bo i en moderne, lavenergivindende bolig med alle tænkelige bekvemmeligheder? Så behøver du ikke ...Læs mere hos mæglerTil salgAarhus Mæglerne: 1 dagTil salg i alt: 232 dageBetalt indholdBoligen på kortMatrikelSolens baneJordforureningTransportOversvømmelseOmrådetSolgteRejsetidBeregn rejsetidPris og udviklingBoligens tidslinje8.', metadata={'source': 'https://www.boligsiden.dk/adresse/niels-bohrs-vej-35a-8260-viby-j-07515829_35a_______?udbud=921aad54-6713-4809-ab12-ed4125ea0b39', 'title': 'Til salg: Niels Bohrs Vej 35A, Viby J - Villa på 205 m² - Boligsiden', 'description': 'Niels Bohrs Vej 35A, 8260 Viby J. Ekstraordinær Funkisvilla i Fysikerkvarteret, Kongsvang\\nDrømmer du om at bo i en moderne, lavenergivindende bolig m', 'language': 'da'}),\n",
       " Document(page_content='juniUdbudt til salg på boligsidenPå markedet7.998.000 kr.8. juniUdbudt til salg på boligsiden7.998.000 kr.På markedet23. majFjernet fra boligsidenAf markedet8.000.000 kr.23. majFjernet fra boligsiden8.000.000 kr.Af markedetOkt. 2023Udbudt til salg på boligsidenPå markedet8.000.000 kr.Okt. 2023Udbudt til salg på boligsiden8.000.000 kr.På markedetSe', metadata={'source': 'https://www.boligsiden.dk/adresse/niels-bohrs-vej-35a-8260-viby-j-07515829_35a_______?udbud=921aad54-6713-4809-ab12-ed4125ea0b39', 'title': 'Til salg: Niels Bohrs Vej 35A, Viby J - Villa på 205 m² - Boligsiden', 'description': 'Niels Bohrs Vej 35A, 8260 Viby J. Ekstraordinær Funkisvilla i Fysikerkvarteret, Kongsvang\\nDrømmer du om at bo i en moderne, lavenergivindende bolig m', 'language': 'da'}),\n",
       " Document(page_content='hele historikkenSolgte på vejenSe andre solgte boliger i:  8260 , Aarhus kommuneBoligen og grundenRadonrisikoRadonrisikoen vurderes til at være ukendtUkendtBesøgsstatistikSe udviklingen i visninger, kliks til mægler og tilføjet til huskeliste af boligen i al dens tid på markedetVisningerDenne boligLignende bolig-%PrisændringVisningerVisningerKliks', metadata={'source': 'https://www.boligsiden.dk/adresse/niels-bohrs-vej-35a-8260-viby-j-07515829_35a_______?udbud=921aad54-6713-4809-ab12-ed4125ea0b39', 'title': 'Til salg: Niels Bohrs Vej 35A, Viby J - Villa på 205 m² - Boligsiden', 'description': 'Niels Bohrs Vej 35A, 8260 Viby J. Ekstraordinær Funkisvilla i Fysikerkvarteret, Kongsvang\\nDrømmer du om at bo i en moderne, lavenergivindende bolig m', 'language': 'da'}),\n",
       " Document(page_content='til mæglerHar gemtDagDagUgeMånedIngen data at vise.Total i hele perioden880Visninger10Har gemt340Klik til mæglerStatistikken tæller, så længe boligen er til salg. Statistikken nulstilles, hvis boligen skifter mægler eller bliver solgt.InternetforbindelserSe hvilke internetforbindelser, der er tilgængelige på adressen. Bemærk, at mobildækning ikke', metadata={'source': 'https://www.boligsiden.dk/adresse/niels-bohrs-vej-35a-8260-viby-j-07515829_35a_______?udbud=921aad54-6713-4809-ab12-ed4125ea0b39', 'title': 'Til salg: Niels Bohrs Vej 35A, Viby J - Villa på 205 m² - Boligsiden', 'description': 'Niels Bohrs Vej 35A, 8260 Viby J. Ekstraordinær Funkisvilla i Fysikerkvarteret, Kongsvang\\nDrømmer du om at bo i en moderne, lavenergivindende bolig m', 'language': 'da'}),\n",
       " Document(page_content='er oplyst.Se alle udbydere hos tjekditnet.dkOplysningerne er leveret af Energistyrelsen. Mener du ikke, at disse er korrekte skal du skrive til Energistyrelsen på tjekditnet@ens.dkBBR-oplysningerSe flere oplysninger om boligenOmrådetDer er 355.238 indbyggere i Aarhus Kommune. Kommuneskatten er på 24,52% og grundskyldspromillen på 24,58‰.Udforsk', metadata={'source': 'https://www.boligsiden.dk/adresse/niels-bohrs-vej-35a-8260-viby-j-07515829_35a_______?udbud=921aad54-6713-4809-ab12-ed4125ea0b39', 'title': 'Til salg: Niels Bohrs Vej 35A, Viby J - Villa på 205 m² - Boligsiden', 'description': 'Niels Bohrs Vej 35A, 8260 Viby J. Ekstraordinær Funkisvilla i Fysikerkvarteret, Kongsvang\\nDrømmer du om at bo i en moderne, lavenergivindende bolig m', 'language': 'da'}),\n",
       " Document(page_content='Viby JSkoler i Viby J tæt på boligenFolkeskolerPrivatskolerNavnTrivselKaraktergennemsnitAfstandBoligen er sat til salg hosAarhus MæglerneHarald Jensens Plads 1A, st., 8000 Aarhus CTelefon: 70707961E-mail: info@aarhusmaeglerne.dkheart-oGem boligSe hos mæglerNiels Bohrs Vej 35A, 8260 Viby Jheart-oGem boligSe hos mæglerNiels Bohrs Vej 35A, 8260 Viby', metadata={'source': 'https://www.boligsiden.dk/adresse/niels-bohrs-vej-35a-8260-viby-j-07515829_35a_______?udbud=921aad54-6713-4809-ab12-ed4125ea0b39', 'title': 'Til salg: Niels Bohrs Vej 35A, Viby J - Villa på 205 m² - Boligsiden', 'description': 'Niels Bohrs Vej 35A, 8260 Viby J. Ekstraordinær Funkisvilla i Fysikerkvarteret, Kongsvang\\nDrømmer du om at bo i en moderne, lavenergivindende bolig m', 'language': 'da'}),\n",
       " Document(page_content='Jheart-oGem boligSe hos mæglerNiels Bohrs Vej 35A, 8260 Viby JBoligsiden® A/SViborggade 70, 2.2100 København ØCVR: 12375646De bedste nyheder direkte i din indbakkeBliv opdateret om de seneste tendenser på boligmarkedet.Tilmeldboligsiden - her finder du hjemFølg os på', metadata={'source': 'https://www.boligsiden.dk/adresse/niels-bohrs-vej-35a-8260-viby-j-07515829_35a_______?udbud=921aad54-6713-4809-ab12-ed4125ea0b39', 'title': 'Til salg: Niels Bohrs Vej 35A, Viby J - Villa på 205 m² - Boligsiden', 'description': 'Niels Bohrs Vej 35A, 8260 Viby J. Ekstraordinær Funkisvilla i Fysikerkvarteret, Kongsvang\\nDrømmer du om at bo i en moderne, lavenergivindende bolig m', 'language': 'da'}),\n",
       " Document(page_content='Til salg: Tousvej 18, Åbyhøj - Villa på 130 m² - BoligsidenOpen main menuSøg boligBoliger til salg og lejeBoliger til salgLejeboligerTvangsauktionerLandbrugVærktøjer og guidesStatistik på priser og liggetidPriser på solgte boligerGuides til boligkøbFakta om alle boliger i DanmarkSe ejendomsvurderinger på kortFind mæglerHjælp til boligsalgFind', metadata={'source': 'https://www.boligsiden.dk/adresse/tousvej-18-8230-aabyhoej-07518710__18_______?udbud=6a9d2e48-3f03-4b3e-a786-6870b1422c6a', 'title': 'Til salg: Tousvej 18, Åbyhøj - Villa på 130 m² - Boligsiden', 'description': 'Tousvej 18, 8230 Åbyhøj. En unik udsigtsvilla i tre forskudte plan og med et spændende arkitektonisk udtryk udbydes nu i populære Åbyhøj og ', 'language': 'da'}),\n",
       " Document(page_content='mægler og se nøgletalStatistik på priser og liggetidSe priser på solgte boligerGuidesVælg den rigtige ejendomsmæglerGuides til boligsalgGør din bolig salgsklarBoligstatistikNyhederNyheder om boligmarkedetSeneste nyhederBoligsidens podcastTilmeld nyhedsbrevSøg i arkivetGuides til bolighandelBoligkøbBoligsalgBoligøkonomiNybyggeriRenoveringAlle', metadata={'source': 'https://www.boligsiden.dk/adresse/tousvej-18-8230-aabyhoej-07518710__18_______?udbud=6a9d2e48-3f03-4b3e-a786-6870b1422c6a', 'title': 'Til salg: Tousvej 18, Åbyhøj - Villa på 130 m² - Boligsiden', 'description': 'Tousvej 18, 8230 Åbyhøj. En unik udsigtsvilla i tre forskudte plan og med et spændende arkitektonisk udtryk udbydes nu i populære Åbyhøj og ', 'language': 'da'}),\n",
       " Document(page_content='guidesTil pressenPressemeddelelserPressekontaktMarkedsindeksLog indLog indFor mæglereØstjylland|ÅbyhøjOversigtPris og udviklingBoligen og grundenOmrådeTousvej 188230 Åbyhøjheart-oKortSe 5 billederSe flere billeder hos mæglerTousvej 188230 ÅbyhøjEnergimærke DVillaSe 5billederKort200 m2 arkitektonisk spændende villa i forskudte plan med skøn', metadata={'source': 'https://www.boligsiden.dk/adresse/tousvej-18-8230-aabyhoej-07518710__18_______?udbud=6a9d2e48-3f03-4b3e-a786-6870b1422c6a', 'title': 'Til salg: Tousvej 18, Åbyhøj - Villa på 130 m² - Boligsiden', 'description': 'Tousvej 18, 8230 Åbyhøj. En unik udsigtsvilla i tre forskudte plan og med et spændende arkitektonisk udtryk udbydes nu i populære Åbyhøj og ', 'language': 'da'}),\n",
       " Document(page_content='udsigt!En unik udsigtsvilla i tre forskudte plan og med et spændende arkitektonisk udtryk udbydes nu i populære Åbyhøj og Åby Skolens distrikt! Her får I en skøn boligoplevelse,...Læs mere hos mæglerTil salghome: 1 dagTil salg i alt: 1 dagBetalt indholdBoligen på kortMatrikelSolens', metadata={'source': 'https://www.boligsiden.dk/adresse/tousvej-18-8230-aabyhoej-07518710__18_______?udbud=6a9d2e48-3f03-4b3e-a786-6870b1422c6a', 'title': 'Til salg: Tousvej 18, Åbyhøj - Villa på 130 m² - Boligsiden', 'description': 'Tousvej 18, 8230 Åbyhøj. En unik udsigtsvilla i tre forskudte plan og med et spændende arkitektonisk udtryk udbydes nu i populære Åbyhøj og ', 'language': 'da'}),\n",
       " Document(page_content='baneJordforureningTransportOversvømmelseOmrådetSolgteRejsetidBeregn rejsetidPris og udviklingBoligens tidslinje8. juniUdbudt til salg på boligsidenPå markedet4.998.000 kr.8. juniUdbudt til salg på boligsiden4.998.000 kr.På markedet1966ByggetByggeår1966ByggetByggeårSolgte på vejenSe andre solgte boliger i:  8230 , Aarhus kommuneBoligen og', metadata={'source': 'https://www.boligsiden.dk/adresse/tousvej-18-8230-aabyhoej-07518710__18_______?udbud=6a9d2e48-3f03-4b3e-a786-6870b1422c6a', 'title': 'Til salg: Tousvej 18, Åbyhøj - Villa på 130 m² - Boligsiden', 'description': 'Tousvej 18, 8230 Åbyhøj. En unik udsigtsvilla i tre forskudte plan og med et spændende arkitektonisk udtryk udbydes nu i populære Åbyhøj og ', 'language': 'da'}),\n",
       " Document(page_content='grundenRadonrisikoRadonrisikoen vurderes til at være ukendtUkendtBesøgsstatistikSe udviklingen i visninger, kliks til mægler og tilføjet til huskeliste af boligen i al dens tid på markedetVisningerDenne boligLignende bolig-%PrisændringVisningerVisningerKliks til mæglerHar gemtDagDagUgeMånedIngen data at vise.Total i hele perioden979Visninger19Har', metadata={'source': 'https://www.boligsiden.dk/adresse/tousvej-18-8230-aabyhoej-07518710__18_______?udbud=6a9d2e48-3f03-4b3e-a786-6870b1422c6a', 'title': 'Til salg: Tousvej 18, Åbyhøj - Villa på 130 m² - Boligsiden', 'description': 'Tousvej 18, 8230 Åbyhøj. En unik udsigtsvilla i tre forskudte plan og med et spændende arkitektonisk udtryk udbydes nu i populære Åbyhøj og ', 'language': 'da'}),\n",
       " Document(page_content='gemt375Klik til mæglerStatistikken tæller, så længe boligen er til salg. Statistikken nulstilles, hvis boligen skifter mægler eller bliver solgt.InternetforbindelserSe hvilke internetforbindelser, der er tilgængelige på adressen. Bemærk, at mobildækning ikke er oplyst.Se alle udbydere hos tjekditnet.dkOplysningerne er leveret af Energistyrelsen.', metadata={'source': 'https://www.boligsiden.dk/adresse/tousvej-18-8230-aabyhoej-07518710__18_______?udbud=6a9d2e48-3f03-4b3e-a786-6870b1422c6a', 'title': 'Til salg: Tousvej 18, Åbyhøj - Villa på 130 m² - Boligsiden', 'description': 'Tousvej 18, 8230 Åbyhøj. En unik udsigtsvilla i tre forskudte plan og med et spændende arkitektonisk udtryk udbydes nu i populære Åbyhøj og ', 'language': 'da'}),\n",
       " Document(page_content='Mener du ikke, at disse er korrekte skal du skrive til Energistyrelsen på tjekditnet@ens.dkBBR-oplysningerSe flere oplysninger om boligenOmrådetDer er 355.238 indbyggere i Aarhus Kommune. Kommuneskatten er på 24,52% og grundskyldspromillen på 24,58‰.Udforsk ÅbyhøjSkoler i Åbyhøj tæt på', metadata={'source': 'https://www.boligsiden.dk/adresse/tousvej-18-8230-aabyhoej-07518710__18_______?udbud=6a9d2e48-3f03-4b3e-a786-6870b1422c6a', 'title': 'Til salg: Tousvej 18, Åbyhøj - Villa på 130 m² - Boligsiden', 'description': 'Tousvej 18, 8230 Åbyhøj. En unik udsigtsvilla i tre forskudte plan og med et spændende arkitektonisk udtryk udbydes nu i populære Åbyhøj og ', 'language': 'da'}),\n",
       " Document(page_content='boligenFolkeskolerPrivatskolerNavnTrivselKaraktergennemsnitAfstandBoligen er sat til salg hoshome Åbyhøj - Aarhus V - BrabrandSilkeborgvej 253, st., 8230 ÅbyhøjTelefon: 86152700E-mail: aabyhoej@home.dkheart-oGem boligSe hos mæglerTousvej 18, 8230 Åbyhøjheart-oGem boligSe hos mæglerTousvej 18, 8230 Åbyhøjheart-oGem boligSe hos mæglerTousvej 18,', metadata={'source': 'https://www.boligsiden.dk/adresse/tousvej-18-8230-aabyhoej-07518710__18_______?udbud=6a9d2e48-3f03-4b3e-a786-6870b1422c6a', 'title': 'Til salg: Tousvej 18, Åbyhøj - Villa på 130 m² - Boligsiden', 'description': 'Tousvej 18, 8230 Åbyhøj. En unik udsigtsvilla i tre forskudte plan og med et spændende arkitektonisk udtryk udbydes nu i populære Åbyhøj og ', 'language': 'da'}),\n",
       " Document(page_content='8230 ÅbyhøjBoligsiden® A/SViborggade 70, 2.2100 København ØCVR: 12375646De bedste nyheder direkte i din indbakkeBliv opdateret om de seneste tendenser på boligmarkedet.Tilmeldboligsiden - her finder du hjemFølg os på', metadata={'source': 'https://www.boligsiden.dk/adresse/tousvej-18-8230-aabyhoej-07518710__18_______?udbud=6a9d2e48-3f03-4b3e-a786-6870b1422c6a', 'title': 'Til salg: Tousvej 18, Åbyhøj - Villa på 130 m² - Boligsiden', 'description': 'Tousvej 18, 8230 Åbyhøj. En unik udsigtsvilla i tre forskudte plan og med et spændende arkitektonisk udtryk udbydes nu i populære Åbyhøj og ', 'language': 'da'}),\n",
       " Document(page_content='Til salg: Solbakken 6, Hammel - Villa på 155 m² - BoligsidenOpen main menuSøg boligBoliger til salg og lejeBoliger til salgLejeboligerTvangsauktionerLandbrugVærktøjer og guidesStatistik på priser og liggetidPriser på solgte boligerGuides til boligkøbFakta om alle boliger i DanmarkSe ejendomsvurderinger på kortFind mæglerHjælp til boligsalgFind', metadata={'source': 'https://www.boligsiden.dk/adresse/solbakken-6-8450-hammel-07100941___6_______?udbud=f40b5be4-67fb-4298-a9cb-ed0be40a23da', 'title': 'Til salg: Solbakken 6, Hammel - Villa på 155 m² - Boligsiden', 'description': 'Solbakken 6, 8450 Hammel. FAMILIEVILLA I 1. RÆKKE TIL SKOVEN.\\xa0For enden af et lukket vænge venter jeres kommende hjem, hvor I får skoven som ', 'language': 'da'}),\n",
       " Document(page_content='mægler og se nøgletalStatistik på priser og liggetidSe priser på solgte boligerGuidesVælg den rigtige ejendomsmæglerGuides til boligsalgGør din bolig salgsklarBoligstatistikNyhederNyheder om boligmarkedetSeneste nyhederBoligsidens podcastTilmeld nyhedsbrevSøg i arkivetGuides til bolighandelBoligkøbBoligsalgBoligøkonomiNybyggeriRenoveringAlle', metadata={'source': 'https://www.boligsiden.dk/adresse/solbakken-6-8450-hammel-07100941___6_______?udbud=f40b5be4-67fb-4298-a9cb-ed0be40a23da', 'title': 'Til salg: Solbakken 6, Hammel - Villa på 155 m² - Boligsiden', 'description': 'Solbakken 6, 8450 Hammel. FAMILIEVILLA I 1. RÆKKE TIL SKOVEN.\\xa0For enden af et lukket vænge venter jeres kommende hjem, hvor I får skoven som ', 'language': 'da'}),\n",
       " Document(page_content='guidesTil pressenPressemeddelelserPressekontaktMarkedsindeksLog indLog indFor mæglereØstjylland|HammelOversigtPris og udviklingBoligen og grundenOmrådeSolbakken 68450 Hammelheart-oKortSe 5 billederSe flere billeder hos mæglerSolbakken 68450 HammelEnergimærke CVillaSe 5billederKortFAMILIEVILLA I 1. RÆKKE TIL SKOVENFAMILIEVILLA I 1. RÆKKE TIL', metadata={'source': 'https://www.boligsiden.dk/adresse/solbakken-6-8450-hammel-07100941___6_______?udbud=f40b5be4-67fb-4298-a9cb-ed0be40a23da', 'title': 'Til salg: Solbakken 6, Hammel - Villa på 155 m² - Boligsiden', 'description': 'Solbakken 6, 8450 Hammel. FAMILIEVILLA I 1. RÆKKE TIL SKOVEN.\\xa0For enden af et lukket vænge venter jeres kommende hjem, hvor I får skoven som ', 'language': 'da'}),\n",
       " Document(page_content='SKOVEN.\\xa0For enden af et lukket vænge venter jeres kommende hjem, hvor I får skoven som nabo og en beliggenhed uden sidestykke – her er kvalite...Læs mere hos mæglerTil salgJohn Frandsen: 1 dagTil salg i alt: 1 dagBetalt indholdBoligen på kortMatrikelSolens baneJordforureningTransportOversvømmelseOmrådetSolgteRejsetidBeregn rejsetidPris og', metadata={'source': 'https://www.boligsiden.dk/adresse/solbakken-6-8450-hammel-07100941___6_______?udbud=f40b5be4-67fb-4298-a9cb-ed0be40a23da', 'title': 'Til salg: Solbakken 6, Hammel - Villa på 155 m² - Boligsiden', 'description': 'Solbakken 6, 8450 Hammel. FAMILIEVILLA I 1. RÆKKE TIL SKOVEN.\\xa0For enden af et lukket vænge venter jeres kommende hjem, hvor I får skoven som ', 'language': 'da'}),\n",
       " Document(page_content='udviklingBoligens tidslinje8. juniUdbudt til salg på boligsidenPå markedet2.595.000 kr.8. juniUdbudt til salg på boligsiden2.595.000 kr.På markedet1977ByggetByggeår1977ByggetByggeårSolgte på vejenSe andre solgte boliger i:  8450 , Favrskov kommuneBoligen og grundenRadonrisikoRadonrisikoen vurderes til at være ukendtUkendtBesøgsstatistikSe', metadata={'source': 'https://www.boligsiden.dk/adresse/solbakken-6-8450-hammel-07100941___6_______?udbud=f40b5be4-67fb-4298-a9cb-ed0be40a23da', 'title': 'Til salg: Solbakken 6, Hammel - Villa på 155 m² - Boligsiden', 'description': 'Solbakken 6, 8450 Hammel. FAMILIEVILLA I 1. RÆKKE TIL SKOVEN.\\xa0For enden af et lukket vænge venter jeres kommende hjem, hvor I får skoven som ', 'language': 'da'}),\n",
       " Document(page_content='udviklingen i visninger, kliks til mægler og tilføjet til huskeliste af boligen i al dens tid på markedetVisningerDenne boligLignende bolig-%PrisændringVisningerVisningerKliks til mæglerHar gemtDagDagUgeMånedIngen data at vise.Total i hele perioden356Visninger0Har gemt203Klik til mæglerStatistikken tæller, så længe boligen er til salg.', metadata={'source': 'https://www.boligsiden.dk/adresse/solbakken-6-8450-hammel-07100941___6_______?udbud=f40b5be4-67fb-4298-a9cb-ed0be40a23da', 'title': 'Til salg: Solbakken 6, Hammel - Villa på 155 m² - Boligsiden', 'description': 'Solbakken 6, 8450 Hammel. FAMILIEVILLA I 1. RÆKKE TIL SKOVEN.\\xa0For enden af et lukket vænge venter jeres kommende hjem, hvor I får skoven som ', 'language': 'da'}),\n",
       " Document(page_content='Statistikken nulstilles, hvis boligen skifter mægler eller bliver solgt.InternetforbindelserSe hvilke internetforbindelser, der er tilgængelige på adressen. Bemærk, at mobildækning ikke er oplyst.Se alle udbydere hos tjekditnet.dkOplysningerne er leveret af Energistyrelsen. Mener du ikke, at disse er korrekte skal du skrive til Energistyrelsen på', metadata={'source': 'https://www.boligsiden.dk/adresse/solbakken-6-8450-hammel-07100941___6_______?udbud=f40b5be4-67fb-4298-a9cb-ed0be40a23da', 'title': 'Til salg: Solbakken 6, Hammel - Villa på 155 m² - Boligsiden', 'description': 'Solbakken 6, 8450 Hammel. FAMILIEVILLA I 1. RÆKKE TIL SKOVEN.\\xa0For enden af et lukket vænge venter jeres kommende hjem, hvor I får skoven som ', 'language': 'da'}),\n",
       " Document(page_content='tjekditnet@ens.dkBBR-oplysningerSe flere oplysninger om boligenOmrådetDer er 48.880 indbyggere i Favrskov Kommune. Kommuneskatten er på 25,7% og grundskyldspromillen på 23,32‰.Udforsk HammelSkoler i Hammel tæt på boligenFolkeskolerPrivatskolerNavnTrivselKaraktergennemsnitAfstandBoligen er sat til salg hosJohn FrandsenØstergade 12, st., 8450', metadata={'source': 'https://www.boligsiden.dk/adresse/solbakken-6-8450-hammel-07100941___6_______?udbud=f40b5be4-67fb-4298-a9cb-ed0be40a23da', 'title': 'Til salg: Solbakken 6, Hammel - Villa på 155 m² - Boligsiden', 'description': 'Solbakken 6, 8450 Hammel. FAMILIEVILLA I 1. RÆKKE TIL SKOVEN.\\xa0For enden af et lukket vænge venter jeres kommende hjem, hvor I får skoven som ', 'language': 'da'}),\n",
       " Document(page_content='HammelTelefon: 8696 3008E-mail: hammel@johnfrandsen.dkheart-oGem boligSe hos mæglerSolbakken 6, 8450 Hammelheart-oGem boligSe hos mæglerSolbakken 6, 8450 Hammelheart-oGem boligSe hos mæglerSolbakken 6, 8450 HammelBoligsiden® A/SViborggade 70, 2.2100 København ØCVR: 12375646De bedste nyheder direkte i din indbakkeBliv opdateret om de seneste', metadata={'source': 'https://www.boligsiden.dk/adresse/solbakken-6-8450-hammel-07100941___6_______?udbud=f40b5be4-67fb-4298-a9cb-ed0be40a23da', 'title': 'Til salg: Solbakken 6, Hammel - Villa på 155 m² - Boligsiden', 'description': 'Solbakken 6, 8450 Hammel. FAMILIEVILLA I 1. RÆKKE TIL SKOVEN.\\xa0For enden af et lukket vænge venter jeres kommende hjem, hvor I får skoven som ', 'language': 'da'}),\n",
       " Document(page_content='tendenser på boligmarkedet.Tilmeldboligsiden - her finder du hjemFølg os på', metadata={'source': 'https://www.boligsiden.dk/adresse/solbakken-6-8450-hammel-07100941___6_______?udbud=f40b5be4-67fb-4298-a9cb-ed0be40a23da', 'title': 'Til salg: Solbakken 6, Hammel - Villa på 155 m² - Boligsiden', 'description': 'Solbakken 6, 8450 Hammel. FAMILIEVILLA I 1. RÆKKE TIL SKOVEN.\\xa0For enden af et lukket vænge venter jeres kommende hjem, hvor I får skoven som ', 'language': 'da'}),\n",
       " Document(page_content='Til salg: Markedsgade 4, Vrå - Villa på 153 m² - BoligsidenOpen main menuSøg boligBoliger til salg og lejeBoliger til salgLejeboligerTvangsauktionerLandbrugVærktøjer og guidesStatistik på priser og liggetidPriser på solgte boligerGuides til boligkøbFakta om alle boliger i DanmarkSe ejendomsvurderinger på kortFind mæglerHjælp til boligsalgFind', metadata={'source': 'https://www.boligsiden.dk/adresse/markedsgade-4-9760-vraa-08602201___4_______?udbud=239de4f1-abaf-40e9-a8b1-53e3f8cf71c1', 'title': 'Til salg: Markedsgade 4, Vrå - Villa på 153 m² - Boligsiden', 'description': 'Markedsgade 4, 9760 Vrå. Super flot og nyopført 1 plans villa med særdeles bynær beliggenhed i Vrå. Her er man få minutters gang fra hverdag', 'language': 'da'}),\n",
       " Document(page_content='mægler og se nøgletalStatistik på priser og liggetidSe priser på solgte boligerGuidesVælg den rigtige ejendomsmæglerGuides til boligsalgGør din bolig salgsklarBoligstatistikNyhederNyheder om boligmarkedetSeneste nyhederBoligsidens podcastTilmeld nyhedsbrevSøg i arkivetGuides til bolighandelBoligkøbBoligsalgBoligøkonomiNybyggeriRenoveringAlle', metadata={'source': 'https://www.boligsiden.dk/adresse/markedsgade-4-9760-vraa-08602201___4_______?udbud=239de4f1-abaf-40e9-a8b1-53e3f8cf71c1', 'title': 'Til salg: Markedsgade 4, Vrå - Villa på 153 m² - Boligsiden', 'description': 'Markedsgade 4, 9760 Vrå. Super flot og nyopført 1 plans villa med særdeles bynær beliggenhed i Vrå. Her er man få minutters gang fra hverdag', 'language': 'da'}),\n",
       " Document(page_content='guidesTil pressenPressemeddelelserPressekontaktMarkedsindeksLog indLog indFor mæglereNordjylland|VråOversigtPris og udviklingBoligen og grundenOmrådeMarkedsgade 49760 Vråheart-oKortSe 5 billederSe flere billeder hos mæglerMarkedsgade 49760 VråEnergimærke A2015Se 5billederKortNyopført og super flot 1 plans villa med attraktiv bynær', metadata={'source': 'https://www.boligsiden.dk/adresse/markedsgade-4-9760-vraa-08602201___4_______?udbud=239de4f1-abaf-40e9-a8b1-53e3f8cf71c1', 'title': 'Til salg: Markedsgade 4, Vrå - Villa på 153 m² - Boligsiden', 'description': 'Markedsgade 4, 9760 Vrå. Super flot og nyopført 1 plans villa med særdeles bynær beliggenhed i Vrå. Her er man få minutters gang fra hverdag', 'language': 'da'}),\n",
       " Document(page_content='beliggenhed!Super flot og nyopført 1 plans villa med særdeles bynær beliggenhed i Vrå. Her er man få minutters gang fra hverdagens fornødenheder - indkøb, pasningsordninger, skole og...Læs mere hos mæglerTil salghome: 1 dagTil salg i alt: 203 dageBetalt indholdBoligen på kortMatrikelSolens', metadata={'source': 'https://www.boligsiden.dk/adresse/markedsgade-4-9760-vraa-08602201___4_______?udbud=239de4f1-abaf-40e9-a8b1-53e3f8cf71c1', 'title': 'Til salg: Markedsgade 4, Vrå - Villa på 153 m² - Boligsiden', 'description': 'Markedsgade 4, 9760 Vrå. Super flot og nyopført 1 plans villa med særdeles bynær beliggenhed i Vrå. Her er man få minutters gang fra hverdag', 'language': 'da'}),\n",
       " Document(page_content='baneJordforureningTransportOversvømmelseOmrådetSolgteRejsetidBeregn rejsetidPris og udviklingBoligens tidslinje8. juniUdbudt til salg på boligsidenPå markedet2.495.000 kr.8. juniUdbudt til salg på boligsiden2.495.000 kr.På markedet6. juniFjernet fra boligsidenAf markedet2.595.000 kr.6. juniFjernet fra boligsiden2.595.000 kr.Af markedet16.', metadata={'source': 'https://www.boligsiden.dk/adresse/markedsgade-4-9760-vraa-08602201___4_______?udbud=239de4f1-abaf-40e9-a8b1-53e3f8cf71c1', 'title': 'Til salg: Markedsgade 4, Vrå - Villa på 153 m² - Boligsiden', 'description': 'Markedsgade 4, 9760 Vrå. Super flot og nyopført 1 plans villa med særdeles bynær beliggenhed i Vrå. Her er man få minutters gang fra hverdag', 'language': 'da'}),\n",
       " Document(page_content='februarPrisfald: -50.000 kr. -2%Prisfald2.595.000 kr.16. februarPrisfald: -50.000 kr. -2%2.595.000 kr.PrisfaldSe hele historikkenSolgte på vejenSe andre solgte boliger i:  9760 , Hjørring kommuneBoligen og grundenRadonrisikoRadonrisikoen vurderes til at være ukendtUkendtBesøgsstatistikSe udviklingen i visninger, kliks til mægler og tilføjet til', metadata={'source': 'https://www.boligsiden.dk/adresse/markedsgade-4-9760-vraa-08602201___4_______?udbud=239de4f1-abaf-40e9-a8b1-53e3f8cf71c1', 'title': 'Til salg: Markedsgade 4, Vrå - Villa på 153 m² - Boligsiden', 'description': 'Markedsgade 4, 9760 Vrå. Super flot og nyopført 1 plans villa med særdeles bynær beliggenhed i Vrå. Her er man få minutters gang fra hverdag', 'language': 'da'}),\n",
       " Document(page_content='huskeliste af boligen i al dens tid på markedetVisningerDenne boligLignende bolig-%PrisændringVisningerVisningerKliks til mæglerHar gemtDagDagUgeMånedIngen data at vise.Total i hele perioden289Visninger2Har gemt139Klik til mæglerStatistikken tæller, så længe boligen er til salg. Statistikken nulstilles, hvis boligen skifter mægler eller bliver', metadata={'source': 'https://www.boligsiden.dk/adresse/markedsgade-4-9760-vraa-08602201___4_______?udbud=239de4f1-abaf-40e9-a8b1-53e3f8cf71c1', 'title': 'Til salg: Markedsgade 4, Vrå - Villa på 153 m² - Boligsiden', 'description': 'Markedsgade 4, 9760 Vrå. Super flot og nyopført 1 plans villa med særdeles bynær beliggenhed i Vrå. Her er man få minutters gang fra hverdag', 'language': 'da'}),\n",
       " Document(page_content='solgt.InternetforbindelserSe hvilke internetforbindelser, der er tilgængelige på adressen. Bemærk, at mobildækning ikke er oplyst.Se alle udbydere hos tjekditnet.dkOplysningerne er leveret af Energistyrelsen. Mener du ikke, at disse er korrekte skal du skrive til Energistyrelsen på tjekditnet@ens.dkBBR-oplysningerSe flere oplysninger om', metadata={'source': 'https://www.boligsiden.dk/adresse/markedsgade-4-9760-vraa-08602201___4_______?udbud=239de4f1-abaf-40e9-a8b1-53e3f8cf71c1', 'title': 'Til salg: Markedsgade 4, Vrå - Villa på 153 m² - Boligsiden', 'description': 'Markedsgade 4, 9760 Vrå. Super flot og nyopført 1 plans villa med særdeles bynær beliggenhed i Vrå. Her er man få minutters gang fra hverdag', 'language': 'da'}),\n",
       " Document(page_content='boligenOmrådetDer er 63.839 indbyggere i Hjørring Kommune. Kommuneskatten er på 26,21% og grundskyldspromillen på 34‰.Udforsk VråSkoler i Vrå tæt på boligenFolkeskolerPrivatskolerNavnTrivselKaraktergennemsnitAfstandBoligen er sat til salg hoshome HjørringNørrebro 5, st., 9800 HjørringTelefon: 98929900E-mail: hjoerring@home.dkheart-oGem boligSe hos', metadata={'source': 'https://www.boligsiden.dk/adresse/markedsgade-4-9760-vraa-08602201___4_______?udbud=239de4f1-abaf-40e9-a8b1-53e3f8cf71c1', 'title': 'Til salg: Markedsgade 4, Vrå - Villa på 153 m² - Boligsiden', 'description': 'Markedsgade 4, 9760 Vrå. Super flot og nyopført 1 plans villa med særdeles bynær beliggenhed i Vrå. Her er man få minutters gang fra hverdag', 'language': 'da'}),\n",
       " Document(page_content='mæglerMarkedsgade 4, 9760 Vråheart-oGem boligSe hos mæglerMarkedsgade 4, 9760 Vråheart-oGem boligSe hos mæglerMarkedsgade 4, 9760 VråBoligsiden® A/SViborggade 70, 2.2100 København ØCVR: 12375646De bedste nyheder direkte i din indbakkeBliv opdateret om de seneste tendenser på boligmarkedet.Tilmeldboligsiden - her finder du hjemFølg os på', metadata={'source': 'https://www.boligsiden.dk/adresse/markedsgade-4-9760-vraa-08602201___4_______?udbud=239de4f1-abaf-40e9-a8b1-53e3f8cf71c1', 'title': 'Til salg: Markedsgade 4, Vrå - Villa på 153 m² - Boligsiden', 'description': 'Markedsgade 4, 9760 Vrå. Super flot og nyopført 1 plans villa med særdeles bynær beliggenhed i Vrå. Her er man få minutters gang fra hverdag', 'language': 'da'}),\n",
       " Document(page_content='Til salg: Kongensbrovej 21, Aidt, Thorsø - Villa på 225 m² - BoligsidenOpen main menuSøg boligBoliger til salg og lejeBoliger til salgLejeboligerTvangsauktionerLandbrugVærktøjer og guidesStatistik på priser og liggetidPriser på solgte boligerGuides til boligkøbFakta om alle boliger i DanmarkSe ejendomsvurderinger på kortFind mæglerHjælp til', metadata={'source': 'https://www.boligsiden.dk/adresse/kongensbrovej-21-8881-thorsoe-07100537__21_______?udbud=7c0b1160-b42e-4f1e-86f8-fd21a9881bb2', 'title': 'Til salg: Kongensbrovej 21, Aidt, Thorsø - Villa på 225 m² - Boligsiden', 'description': 'Kongensbrovej 21, Aidt, 8881 Thorsø. Smuk ejendom med over 1,7 hektar grund og værksteder!Der er masser af wauw-effekt og smuk natur omkring denne velho', 'language': 'da'}),\n",
       " Document(page_content='boligsalgFind mægler og se nøgletalStatistik på priser og liggetidSe priser på solgte boligerGuidesVælg den rigtige ejendomsmæglerGuides til boligsalgGør din bolig salgsklarBoligstatistikNyhederNyheder om boligmarkedetSeneste nyhederBoligsidens podcastTilmeld nyhedsbrevSøg i arkivetGuides til', metadata={'source': 'https://www.boligsiden.dk/adresse/kongensbrovej-21-8881-thorsoe-07100537__21_______?udbud=7c0b1160-b42e-4f1e-86f8-fd21a9881bb2', 'title': 'Til salg: Kongensbrovej 21, Aidt, Thorsø - Villa på 225 m² - Boligsiden', 'description': 'Kongensbrovej 21, Aidt, 8881 Thorsø. Smuk ejendom med over 1,7 hektar grund og værksteder!Der er masser af wauw-effekt og smuk natur omkring denne velho', 'language': 'da'}),\n",
       " Document(page_content='bolighandelBoligkøbBoligsalgBoligøkonomiNybyggeriRenoveringAlle guidesTil pressenPressemeddelelserPressekontaktMarkedsindeksLog indLog indFor mæglereØstjylland|ThorsøOversigtPris og udviklingBoligen og grundenOmrådeKongensbrovej 21Aidt, 8881 Thorsøheart-oKortSe 5 billederSe flere billeder hos mæglerKongensbrovej 21Aidt, 8881 ThorsøEnergimærke', metadata={'source': 'https://www.boligsiden.dk/adresse/kongensbrovej-21-8881-thorsoe-07100537__21_______?udbud=7c0b1160-b42e-4f1e-86f8-fd21a9881bb2', 'title': 'Til salg: Kongensbrovej 21, Aidt, Thorsø - Villa på 225 m² - Boligsiden', 'description': 'Kongensbrovej 21, Aidt, 8881 Thorsø. Smuk ejendom med over 1,7 hektar grund og værksteder!Der er masser af wauw-effekt og smuk natur omkring denne velho', 'language': 'da'}),\n",
       " Document(page_content='FVilla/LandejendomSe 5billederKortSmuk ejendom med over 1,7 hektar grund og værksteder!Smuk ejendom med over 1,7 hektar grund og værksteder!Der er masser af wauw-effekt og smuk natur omkring denne velholdte ejendom lige uden for Thorsø og nær Hammel.\\xa0Område...Læs mere hos mæglerTil salgJohn Frandsen: 1 dagTil salg i alt: 1 dagBetalt indholdBoligen', metadata={'source': 'https://www.boligsiden.dk/adresse/kongensbrovej-21-8881-thorsoe-07100537__21_______?udbud=7c0b1160-b42e-4f1e-86f8-fd21a9881bb2', 'title': 'Til salg: Kongensbrovej 21, Aidt, Thorsø - Villa på 225 m² - Boligsiden', 'description': 'Kongensbrovej 21, Aidt, 8881 Thorsø. Smuk ejendom med over 1,7 hektar grund og værksteder!Der er masser af wauw-effekt og smuk natur omkring denne velho', 'language': 'da'}),\n",
       " Document(page_content='på kortMatrikelSolens baneJordforureningTransportOversvømmelseOmrådetSolgteRejsetidBeregn rejsetidPris og udviklingBoligens tidslinje8. juniUdbudt til salg på boligsidenPå markedet1.195.000 kr.8. juniUdbudt til salg på boligsiden1.195.000 kr.På markedetApr. 2017Solgt, alm. frit salgFri handel600.000 kr.Apr. 2017Solgt, alm. frit salg600.000 kr.Fri', metadata={'source': 'https://www.boligsiden.dk/adresse/kongensbrovej-21-8881-thorsoe-07100537__21_______?udbud=7c0b1160-b42e-4f1e-86f8-fd21a9881bb2', 'title': 'Til salg: Kongensbrovej 21, Aidt, Thorsø - Villa på 225 m² - Boligsiden', 'description': 'Kongensbrovej 21, Aidt, 8881 Thorsø. Smuk ejendom med over 1,7 hektar grund og værksteder!Der er masser af wauw-effekt og smuk natur omkring denne velho', 'language': 'da'}),\n",
       " Document(page_content='handel1973OmbygningOmbygningsår1973OmbygningOmbygningsårSe hele historikkenSolgte på vejenSe andre solgte boliger i:  Aidt , 8881 , Favrskov kommuneBoligen og grundenRadonrisikoRadonrisikoen vurderes til at være ukendtUkendtBesøgsstatistikSe udviklingen i visninger, kliks til mægler og tilføjet til huskeliste af boligen i al dens tid på', metadata={'source': 'https://www.boligsiden.dk/adresse/kongensbrovej-21-8881-thorsoe-07100537__21_______?udbud=7c0b1160-b42e-4f1e-86f8-fd21a9881bb2', 'title': 'Til salg: Kongensbrovej 21, Aidt, Thorsø - Villa på 225 m² - Boligsiden', 'description': 'Kongensbrovej 21, Aidt, 8881 Thorsø. Smuk ejendom med over 1,7 hektar grund og værksteder!Der er masser af wauw-effekt og smuk natur omkring denne velho', 'language': 'da'}),\n",
       " Document(page_content='markedetVisningerDenne boligLignende bolig-%PrisændringVisningerVisningerKliks til mæglerHar gemtDagDagUgeMånedIngen data at vise.Total i hele perioden365Visninger6Har gemt181Klik til mæglerStatistikken tæller, så længe boligen er til salg. Statistikken nulstilles, hvis boligen skifter mægler eller bliver solgt.InternetforbindelserSe hvilke', metadata={'source': 'https://www.boligsiden.dk/adresse/kongensbrovej-21-8881-thorsoe-07100537__21_______?udbud=7c0b1160-b42e-4f1e-86f8-fd21a9881bb2', 'title': 'Til salg: Kongensbrovej 21, Aidt, Thorsø - Villa på 225 m² - Boligsiden', 'description': 'Kongensbrovej 21, Aidt, 8881 Thorsø. Smuk ejendom med over 1,7 hektar grund og værksteder!Der er masser af wauw-effekt og smuk natur omkring denne velho', 'language': 'da'}),\n",
       " Document(page_content='internetforbindelser, der er tilgængelige på adressen. Bemærk, at mobildækning ikke er oplyst.Se alle udbydere hos tjekditnet.dkOplysningerne er leveret af Energistyrelsen. Mener du ikke, at disse er korrekte skal du skrive til Energistyrelsen på tjekditnet@ens.dkBBR-oplysningerSe flere oplysninger om boligenOmrådetDer er 48.880 indbyggere i', metadata={'source': 'https://www.boligsiden.dk/adresse/kongensbrovej-21-8881-thorsoe-07100537__21_______?udbud=7c0b1160-b42e-4f1e-86f8-fd21a9881bb2', 'title': 'Til salg: Kongensbrovej 21, Aidt, Thorsø - Villa på 225 m² - Boligsiden', 'description': 'Kongensbrovej 21, Aidt, 8881 Thorsø. Smuk ejendom med over 1,7 hektar grund og værksteder!Der er masser af wauw-effekt og smuk natur omkring denne velho', 'language': 'da'}),\n",
       " Document(page_content='Favrskov Kommune. Kommuneskatten er på 25,7% og grundskyldspromillen på 23,32‰.Udforsk ThorsøSkoler i Thorsø tæt på boligenFolkeskolerPrivatskolerNavnTrivselKaraktergennemsnitAfstandBoligen er sat til salg hosJohn FrandsenØstergade 12, st., 8450 HammelTelefon: 8696 3008E-mail: hammel@johnfrandsen.dkheart-oGem boligSe hos mæglerKongensbrovej 21,', metadata={'source': 'https://www.boligsiden.dk/adresse/kongensbrovej-21-8881-thorsoe-07100537__21_______?udbud=7c0b1160-b42e-4f1e-86f8-fd21a9881bb2', 'title': 'Til salg: Kongensbrovej 21, Aidt, Thorsø - Villa på 225 m² - Boligsiden', 'description': 'Kongensbrovej 21, Aidt, 8881 Thorsø. Smuk ejendom med over 1,7 hektar grund og værksteder!Der er masser af wauw-effekt og smuk natur omkring denne velho', 'language': 'da'}),\n",
       " Document(page_content='8881 Thorsøheart-oGem boligSe hos mæglerKongensbrovej 21, 8881 Thorsøheart-oGem boligSe hos mæglerKongensbrovej 21, 8881 ThorsøBoligsiden® A/SViborggade 70, 2.2100 København ØCVR: 12375646De bedste nyheder direkte i din indbakkeBliv opdateret om de seneste tendenser på boligmarkedet.Tilmeldboligsiden - her finder du hjemFølg os på', metadata={'source': 'https://www.boligsiden.dk/adresse/kongensbrovej-21-8881-thorsoe-07100537__21_______?udbud=7c0b1160-b42e-4f1e-86f8-fd21a9881bb2', 'title': 'Til salg: Kongensbrovej 21, Aidt, Thorsø - Villa på 225 m² - Boligsiden', 'description': 'Kongensbrovej 21, Aidt, 8881 Thorsø. Smuk ejendom med over 1,7 hektar grund og værksteder!Der er masser af wauw-effekt og smuk natur omkring denne velho', 'language': 'da'}),\n",
       " Document(page_content='Til salg: Blichersvej 7, Thorning, Kjellerup - Villa på 156 m² - BoligsidenOpen main menuSøg boligBoliger til salg og lejeBoliger til salgLejeboligerTvangsauktionerLandbrugVærktøjer og guidesStatistik på priser og liggetidPriser på solgte boligerGuides til boligkøbFakta om alle boliger i DanmarkSe ejendomsvurderinger på kortFind mæglerHjælp til', metadata={'source': 'https://www.boligsiden.dk/adresse/blichersvej-7-8620-kjellerup-07400128___7_______?udbud=feb28f55-181c-4f51-bc07-9d99fef4d00b', 'title': 'Til salg: Blichersvej 7, Thorning, Kjellerup - Villa på 156 m² - Boligsiden', 'description': 'Blichersvej 7, Thorning, 8620 Kjellerup. Denne charmerende murermestervilla fra 1934 på Blichersvej 7 består af 156 veludnyttede kvadratmeter. De er flot re', 'language': 'da'}),\n",
       " Document(page_content='boligsalgFind mægler og se nøgletalStatistik på priser og liggetidSe priser på solgte boligerGuidesVælg den rigtige ejendomsmæglerGuides til boligsalgGør din bolig salgsklarBoligstatistikNyhederNyheder om boligmarkedetSeneste nyhederBoligsidens podcastTilmeld nyhedsbrevSøg i arkivetGuides til', metadata={'source': 'https://www.boligsiden.dk/adresse/blichersvej-7-8620-kjellerup-07400128___7_______?udbud=feb28f55-181c-4f51-bc07-9d99fef4d00b', 'title': 'Til salg: Blichersvej 7, Thorning, Kjellerup - Villa på 156 m² - Boligsiden', 'description': 'Blichersvej 7, Thorning, 8620 Kjellerup. Denne charmerende murermestervilla fra 1934 på Blichersvej 7 består af 156 veludnyttede kvadratmeter. De er flot re', 'language': 'da'}),\n",
       " Document(page_content='bolighandelBoligkøbBoligsalgBoligøkonomiNybyggeriRenoveringAlle guidesTil pressenPressemeddelelserPressekontaktMarkedsindeksLog indLog indFor mæglereØstjylland|KjellerupOversigtPris og udviklingBoligen og grundenOmrådeBlichersvej 7Thorning, 8620 Kjellerupheart-oKortSe 3 billederSe flere billeder hos mæglerBlichersvej 7Thorning, 8620', metadata={'source': 'https://www.boligsiden.dk/adresse/blichersvej-7-8620-kjellerup-07400128___7_______?udbud=feb28f55-181c-4f51-bc07-9d99fef4d00b', 'title': 'Til salg: Blichersvej 7, Thorning, Kjellerup - Villa på 156 m² - Boligsiden', 'description': 'Blichersvej 7, Thorning, 8620 Kjellerup. Denne charmerende murermestervilla fra 1934 på Blichersvej 7 består af 156 veludnyttede kvadratmeter. De er flot re', 'language': 'da'}),\n",
       " Document(page_content='KjellerupEnergimærke CVillaSe 3billederKortElegant villa med rigtig stort værksted i ThorningDenne charmerende murermestervilla fra 1934 på Blichersvej 7 består af 156 veludnyttede kvadratmeter. De er flot renoveret med alt det bedste i kombination, da I her får ...Læs mere hos mæglerTil salgNybolig: 1 dagTil salg i alt: 1 dagBetalt indholdBoligen', metadata={'source': 'https://www.boligsiden.dk/adresse/blichersvej-7-8620-kjellerup-07400128___7_______?udbud=feb28f55-181c-4f51-bc07-9d99fef4d00b', 'title': 'Til salg: Blichersvej 7, Thorning, Kjellerup - Villa på 156 m² - Boligsiden', 'description': 'Blichersvej 7, Thorning, 8620 Kjellerup. Denne charmerende murermestervilla fra 1934 på Blichersvej 7 består af 156 veludnyttede kvadratmeter. De er flot re', 'language': 'da'}),\n",
       " Document(page_content='på kortMatrikelSolens baneJordforureningTransportOversvømmelseOmrådetSolgteRejsetidBeregn rejsetidPris og udviklingBoligens tidslinje8. juniUdbudt til salg på boligsidenPå markedet1.975.000 kr.8. juniUdbudt til salg på boligsiden1.975.000 kr.På markedetMar. 2006Solgt, alm. frit salgFri handel725.000 kr.Mar. 2006Solgt, alm. frit salg725.000 kr.Fri', metadata={'source': 'https://www.boligsiden.dk/adresse/blichersvej-7-8620-kjellerup-07400128___7_______?udbud=feb28f55-181c-4f51-bc07-9d99fef4d00b', 'title': 'Til salg: Blichersvej 7, Thorning, Kjellerup - Villa på 156 m² - Boligsiden', 'description': 'Blichersvej 7, Thorning, 8620 Kjellerup. Denne charmerende murermestervilla fra 1934 på Blichersvej 7 består af 156 veludnyttede kvadratmeter. De er flot re', 'language': 'da'}),\n",
       " Document(page_content='handelJul. 1994Solgt, alm. frit salgFri handel290.000 kr.Jul. 1994Solgt, alm. frit salg290.000 kr.Fri handelSe hele historikkenSolgte på vejenSe andre solgte boliger i:  Thorning , 8620 , Silkeborg kommuneBoligen og grundenRadonrisikoRadonrisikoen vurderes til at være ukendtUkendtBesøgsstatistikSe udviklingen i visninger, kliks til mægler og', metadata={'source': 'https://www.boligsiden.dk/adresse/blichersvej-7-8620-kjellerup-07400128___7_______?udbud=feb28f55-181c-4f51-bc07-9d99fef4d00b', 'title': 'Til salg: Blichersvej 7, Thorning, Kjellerup - Villa på 156 m² - Boligsiden', 'description': 'Blichersvej 7, Thorning, 8620 Kjellerup. Denne charmerende murermestervilla fra 1934 på Blichersvej 7 består af 156 veludnyttede kvadratmeter. De er flot re', 'language': 'da'}),\n",
       " Document(page_content='tilføjet til huskeliste af boligen i al dens tid på markedetVisningerDenne boligLignende bolig-%PrisændringVisningerVisningerKliks til mæglerHar gemtDagDagUgeMånedIngen data at vise.Total i hele perioden826Visninger12Har gemt335Klik til mæglerStatistikken tæller, så længe boligen er til salg. Statistikken nulstilles, hvis boligen skifter mægler', metadata={'source': 'https://www.boligsiden.dk/adresse/blichersvej-7-8620-kjellerup-07400128___7_______?udbud=feb28f55-181c-4f51-bc07-9d99fef4d00b', 'title': 'Til salg: Blichersvej 7, Thorning, Kjellerup - Villa på 156 m² - Boligsiden', 'description': 'Blichersvej 7, Thorning, 8620 Kjellerup. Denne charmerende murermestervilla fra 1934 på Blichersvej 7 består af 156 veludnyttede kvadratmeter. De er flot re', 'language': 'da'}),\n",
       " Document(page_content='eller bliver solgt.InternetforbindelserSe hvilke internetforbindelser, der er tilgængelige på adressen. Bemærk, at mobildækning ikke er oplyst.Se alle udbydere hos tjekditnet.dkOplysningerne er leveret af Energistyrelsen. Mener du ikke, at disse er korrekte skal du skrive til Energistyrelsen på tjekditnet@ens.dkBBR-oplysningerSe flere oplysninger', metadata={'source': 'https://www.boligsiden.dk/adresse/blichersvej-7-8620-kjellerup-07400128___7_______?udbud=feb28f55-181c-4f51-bc07-9d99fef4d00b', 'title': 'Til salg: Blichersvej 7, Thorning, Kjellerup - Villa på 156 m² - Boligsiden', 'description': 'Blichersvej 7, Thorning, 8620 Kjellerup. Denne charmerende murermestervilla fra 1934 på Blichersvej 7 består af 156 veludnyttede kvadratmeter. De er flot re', 'language': 'da'}),\n",
       " Document(page_content='om boligenOmrådetDer er 97.358 indbyggere i Silkeborg Kommune. Kommuneskatten er på 25,5% og grundskyldspromillen på 28,26‰.Udforsk KjellerupSkoler i Kjellerup tæt på boligenFolkeskolerPrivatskolerNavnTrivselKaraktergennemsnitAfstandBoligen er sat til salg hosNybolig KjellerupSøndergade 2, st., 8620 KjellerupTelefon: 86883999E-mail:', metadata={'source': 'https://www.boligsiden.dk/adresse/blichersvej-7-8620-kjellerup-07400128___7_______?udbud=feb28f55-181c-4f51-bc07-9d99fef4d00b', 'title': 'Til salg: Blichersvej 7, Thorning, Kjellerup - Villa på 156 m² - Boligsiden', 'description': 'Blichersvej 7, Thorning, 8620 Kjellerup. Denne charmerende murermestervilla fra 1934 på Blichersvej 7 består af 156 veludnyttede kvadratmeter. De er flot re', 'language': 'da'}),\n",
       " Document(page_content='8620@nybolig.dkheart-oGem boligSe hos mæglerBlichersvej 7, 8620 Kjellerupheart-oGem boligSe hos mæglerBlichersvej 7, 8620 Kjellerupheart-oGem boligSe hos mæglerBlichersvej 7, 8620 KjellerupBoligsiden® A/SViborggade 70, 2.2100 København ØCVR: 12375646De bedste nyheder direkte i din indbakkeBliv opdateret om de seneste tendenser på', metadata={'source': 'https://www.boligsiden.dk/adresse/blichersvej-7-8620-kjellerup-07400128___7_______?udbud=feb28f55-181c-4f51-bc07-9d99fef4d00b', 'title': 'Til salg: Blichersvej 7, Thorning, Kjellerup - Villa på 156 m² - Boligsiden', 'description': 'Blichersvej 7, Thorning, 8620 Kjellerup. Denne charmerende murermestervilla fra 1934 på Blichersvej 7 består af 156 veludnyttede kvadratmeter. De er flot re', 'language': 'da'}),\n",
       " Document(page_content='boligmarkedet.Tilmeldboligsiden - her finder du hjemFølg os på', metadata={'source': 'https://www.boligsiden.dk/adresse/blichersvej-7-8620-kjellerup-07400128___7_______?udbud=feb28f55-181c-4f51-bc07-9d99fef4d00b', 'title': 'Til salg: Blichersvej 7, Thorning, Kjellerup - Villa på 156 m² - Boligsiden', 'description': 'Blichersvej 7, Thorning, 8620 Kjellerup. Denne charmerende murermestervilla fra 1934 på Blichersvej 7 består af 156 veludnyttede kvadratmeter. De er flot re', 'language': 'da'}),\n",
       " Document(page_content='Til salg: Gurrevej 407A, Gurre, Kvistgård - Villa på 152 m² - BoligsidenOpen main menuSøg boligBoliger til salg og lejeBoliger til salgLejeboligerTvangsauktionerLandbrugVærktøjer og guidesStatistik på priser og liggetidPriser på solgte boligerGuides til boligkøbFakta om alle boliger i DanmarkSe ejendomsvurderinger på kortFind mæglerHjælp til', metadata={'source': 'https://www.boligsiden.dk/adresse/gurrevej-407a-3490-kvistgaard-02172600407a_______?udbud=dd9dbef5-cbb6-4692-89c9-2edf7e4a13df', 'title': 'Til salg: Gurrevej 407A, Gurre, Kvistgård - Villa på 152 m² - Boligsiden', 'description': 'Gurrevej 407A, Gurre, 3490 Kvistgård. Beliggende i smukke omgivelse med udsigt over åbne marker og Gurre Slotsruin, har vi netop fået denne landlige ejen', 'language': 'da'}),\n",
       " Document(page_content='boligsalgFind mægler og se nøgletalStatistik på priser og liggetidSe priser på solgte boligerGuidesVælg den rigtige ejendomsmæglerGuides til boligsalgGør din bolig salgsklarBoligstatistikNyhederNyheder om boligmarkedetSeneste nyhederBoligsidens podcastTilmeld nyhedsbrevSøg i arkivetGuides til', metadata={'source': 'https://www.boligsiden.dk/adresse/gurrevej-407a-3490-kvistgaard-02172600407a_______?udbud=dd9dbef5-cbb6-4692-89c9-2edf7e4a13df', 'title': 'Til salg: Gurrevej 407A, Gurre, Kvistgård - Villa på 152 m² - Boligsiden', 'description': 'Gurrevej 407A, Gurre, 3490 Kvistgård. Beliggende i smukke omgivelse med udsigt over åbne marker og Gurre Slotsruin, har vi netop fået denne landlige ejen', 'language': 'da'}),\n",
       " Document(page_content='bolighandelBoligkøbBoligsalgBoligøkonomiNybyggeriRenoveringAlle guidesTil pressenPressemeddelelserPressekontaktMarkedsindeksLog indLog indFor mæglereNordsjælland|KvistgårdOversigtPris og udviklingBoligen og grundenOmrådeGurrevej 407AGurre, 3490 Kvistgårdheart-oKortSe 5 billederSe flere billeder hos mæglerGurrevej 407AGurre, 3490', metadata={'source': 'https://www.boligsiden.dk/adresse/gurrevej-407a-3490-kvistgaard-02172600407a_______?udbud=dd9dbef5-cbb6-4692-89c9-2edf7e4a13df', 'title': 'Til salg: Gurrevej 407A, Gurre, Kvistgård - Villa på 152 m² - Boligsiden', 'description': 'Gurrevej 407A, Gurre, 3490 Kvistgård. Beliggende i smukke omgivelse med udsigt over åbne marker og Gurre Slotsruin, har vi netop fået denne landlige ejen', 'language': 'da'}),\n",
       " Document(page_content='KvistgårdEnergimærke CVillaSe 5billederKortLandligt idyl ved Gurre Slotsruin med plads til heste!Beliggende i smukke omgivelse med udsigt over åbne marker og Gurre Slotsruin, har vi netop fået denne landlige ejendom til salg.\\xa0 \\xa0\\xa0Her får man en bekymringsfri landlig v...Læs mere hos mæglerTil salgdanbolig: 2 dageTil salg i alt: 2 dageBetalt', metadata={'source': 'https://www.boligsiden.dk/adresse/gurrevej-407a-3490-kvistgaard-02172600407a_______?udbud=dd9dbef5-cbb6-4692-89c9-2edf7e4a13df', 'title': 'Til salg: Gurrevej 407A, Gurre, Kvistgård - Villa på 152 m² - Boligsiden', 'description': 'Gurrevej 407A, Gurre, 3490 Kvistgård. Beliggende i smukke omgivelse med udsigt over åbne marker og Gurre Slotsruin, har vi netop fået denne landlige ejen', 'language': 'da'}),\n",
       " Document(page_content='indholdBoligen på kortMatrikelSolens baneJordforureningTransportOversvømmelseOmrådetSolgteRejsetidBeregn rejsetidPris og udviklingBoligens tidslinje7. juniUdbudt til salg på boligsidenPå markedet4.995.000 kr.7. juniUdbudt til salg på boligsiden4.995.000 kr.På markedetNov. 2001Solgt, familiehandelFamiliehandel1.200.000 kr.Nov. 2001Solgt,', metadata={'source': 'https://www.boligsiden.dk/adresse/gurrevej-407a-3490-kvistgaard-02172600407a_______?udbud=dd9dbef5-cbb6-4692-89c9-2edf7e4a13df', 'title': 'Til salg: Gurrevej 407A, Gurre, Kvistgård - Villa på 152 m² - Boligsiden', 'description': 'Gurrevej 407A, Gurre, 3490 Kvistgård. Beliggende i smukke omgivelse med udsigt over åbne marker og Gurre Slotsruin, har vi netop fået denne landlige ejen', 'language': 'da'}),\n",
       " Document(page_content='familiehandel1.200.000 kr.Familiehandel1900ByggetByggeår1900ByggetByggeårSolgte på vejenSe andre solgte boliger i:  Gurre , 3490 , Helsingør kommuneBoligen og grundenRadonrisikoRadonrisikoen vurderes til at være ukendtUkendtBesøgsstatistikSe udviklingen i visninger, kliks til mægler og tilføjet til huskeliste af boligen i al dens tid på', metadata={'source': 'https://www.boligsiden.dk/adresse/gurrevej-407a-3490-kvistgaard-02172600407a_______?udbud=dd9dbef5-cbb6-4692-89c9-2edf7e4a13df', 'title': 'Til salg: Gurrevej 407A, Gurre, Kvistgård - Villa på 152 m² - Boligsiden', 'description': 'Gurrevej 407A, Gurre, 3490 Kvistgård. Beliggende i smukke omgivelse med udsigt over åbne marker og Gurre Slotsruin, har vi netop fået denne landlige ejen', 'language': 'da'}),\n",
       " Document(page_content='markedetVisningerDenne boligLignende bolig-%PrisændringVisningerVisningerKliks til mæglerHar gemtDagDagUgeMånedIngen data at vise.Total i hele perioden574Visninger12Har gemt283Klik til mæglerStatistikken tæller, så længe boligen er til salg. Statistikken nulstilles, hvis boligen skifter mægler eller bliver solgt.InternetforbindelserSe hvilke', metadata={'source': 'https://www.boligsiden.dk/adresse/gurrevej-407a-3490-kvistgaard-02172600407a_______?udbud=dd9dbef5-cbb6-4692-89c9-2edf7e4a13df', 'title': 'Til salg: Gurrevej 407A, Gurre, Kvistgård - Villa på 152 m² - Boligsiden', 'description': 'Gurrevej 407A, Gurre, 3490 Kvistgård. Beliggende i smukke omgivelse med udsigt over åbne marker og Gurre Slotsruin, har vi netop fået denne landlige ejen', 'language': 'da'}),\n",
       " Document(page_content='internetforbindelser, der er tilgængelige på adressen. Bemærk, at mobildækning ikke er oplyst.Se alle udbydere hos tjekditnet.dkOplysningerne er leveret af Energistyrelsen. Mener du ikke, at disse er korrekte skal du skrive til Energistyrelsen på tjekditnet@ens.dkBBR-oplysningerSe flere oplysninger om boligenOmrådetDer er 62.875 indbyggere i', metadata={'source': 'https://www.boligsiden.dk/adresse/gurrevej-407a-3490-kvistgaard-02172600407a_______?udbud=dd9dbef5-cbb6-4692-89c9-2edf7e4a13df', 'title': 'Til salg: Gurrevej 407A, Gurre, Kvistgård - Villa på 152 m² - Boligsiden', 'description': 'Gurrevej 407A, Gurre, 3490 Kvistgård. Beliggende i smukke omgivelse med udsigt over åbne marker og Gurre Slotsruin, har vi netop fået denne landlige ejen', 'language': 'da'}),\n",
       " Document(page_content='Helsingør Kommune. Kommuneskatten er på 25,52% og grundskyldspromillen på 28,5‰.Udforsk KvistgårdSkoler i Kvistgård tæt på boligenFolkeskolerPrivatskolerNavnTrivselKaraktergennemsnitAfstandBoligen er sat til salg hosdanbolig HelsingørKongensgade 2, st., 3000 HelsingørTelefon: 49 26 11 00E-mail: helsingoer@danbolig.dkheart-oGem boligSe hos', metadata={'source': 'https://www.boligsiden.dk/adresse/gurrevej-407a-3490-kvistgaard-02172600407a_______?udbud=dd9dbef5-cbb6-4692-89c9-2edf7e4a13df', 'title': 'Til salg: Gurrevej 407A, Gurre, Kvistgård - Villa på 152 m² - Boligsiden', 'description': 'Gurrevej 407A, Gurre, 3490 Kvistgård. Beliggende i smukke omgivelse med udsigt over åbne marker og Gurre Slotsruin, har vi netop fået denne landlige ejen', 'language': 'da'}),\n",
       " Document(page_content='mæglerGurrevej 407A, 3490 Kvistgårdheart-oGem boligSe hos mæglerGurrevej 407A, 3490 Kvistgårdheart-oGem boligSe hos mæglerGurrevej 407A, 3490 KvistgårdBoligsiden® A/SViborggade 70, 2.2100 København ØCVR: 12375646De bedste nyheder direkte i din indbakkeBliv opdateret om de seneste tendenser på boligmarkedet.Tilmeldboligsiden - her finder du', metadata={'source': 'https://www.boligsiden.dk/adresse/gurrevej-407a-3490-kvistgaard-02172600407a_______?udbud=dd9dbef5-cbb6-4692-89c9-2edf7e4a13df', 'title': 'Til salg: Gurrevej 407A, Gurre, Kvistgård - Villa på 152 m² - Boligsiden', 'description': 'Gurrevej 407A, Gurre, 3490 Kvistgård. Beliggende i smukke omgivelse med udsigt over åbne marker og Gurre Slotsruin, har vi netop fået denne landlige ejen', 'language': 'da'}),\n",
       " Document(page_content='hjemFølg os på', metadata={'source': 'https://www.boligsiden.dk/adresse/gurrevej-407a-3490-kvistgaard-02172600407a_______?udbud=dd9dbef5-cbb6-4692-89c9-2edf7e4a13df', 'title': 'Til salg: Gurrevej 407A, Gurre, Kvistgård - Villa på 152 m² - Boligsiden', 'description': 'Gurrevej 407A, Gurre, 3490 Kvistgård. Beliggende i smukke omgivelse med udsigt over åbne marker og Gurre Slotsruin, har vi netop fået denne landlige ejen', 'language': 'da'}),\n",
       " Document(page_content='Just a moment...Enable JavaScript and cookies to continue', metadata={'source': 'https://www.dingeo.dk/adresse/3000-helsing%C3%B8r/nordre%20strandvej-72a/', 'title': 'Just a moment...', 'language': 'en-US'}),\n",
       " Document(page_content='Just a moment...Enable JavaScript and cookies to continue', metadata={'source': 'https://www.dingeo.dk/adresse/3000-helsing%C3%B8r/sophie%20brahes%20gade-3a/1-tv/', 'title': 'Just a moment...', 'language': 'en-US'}),\n",
       " Document(page_content='Just a moment...Enable JavaScript and cookies to continue', metadata={'source': 'https://www.dingeo.dk/adresse/3000-helsing%C3%B8r/allegade-10d/st-tv/', 'title': 'Just a moment...', 'language': 'en-US'}),\n",
       " Document(page_content='Just a moment...Enable JavaScript and cookies to continue', metadata={'source': 'https://www.dingeo.dk/adresse/3000-helsing%C3%B8r/esrumvej-105/', 'title': 'Just a moment...', 'language': 'en-US'}),\n",
       " Document(page_content='Just a moment...Enable JavaScript and cookies to continue', metadata={'source': 'https://www.dingeo.dk/adresse/3000-helsing%C3%B8r/gefionsvej-52/', 'title': 'Just a moment...', 'language': 'en-US'}),\n",
       " Document(page_content='Just a moment...Enable JavaScript and cookies to continue', metadata={'source': 'https://www.dingeo.dk/adresse/3000-helsing%C3%B8r/torvegade-1c/1-th/', 'title': 'Just a moment...', 'language': 'en-US'}),\n",
       " Document(page_content='Just a moment...Enable JavaScript and cookies to continue', metadata={'source': 'https://www.dingeo.dk/adresse/3000-helsing%C3%B8r/glentevej-23/', 'title': 'Just a moment...', 'language': 'en-US'}),\n",
       " Document(page_content='Just a moment...Enable JavaScript and cookies to continue', metadata={'source': 'https://www.dingeo.dk/adresse/3000-helsing%C3%B8r/kristineh%C3%B8jvej-23/', 'title': 'Just a moment...', 'language': 'en-US'})]"
      ]
     },
     "execution_count": 22,
     "metadata": {},
     "output_type": "execute_result"
    }
   ],
   "source": [
    "splits = myutils.chunkDocs(documents, 350)  \n",
    "splits"
   ]
  },
  {
   "cell_type": "code",
   "execution_count": 23,
   "id": "01ba7c9b-8326-43e1-8d62-3f920009ee21",
   "metadata": {},
   "outputs": [
    {
     "data": {
      "text/plain": [
       "81"
      ]
     },
     "execution_count": 23,
     "metadata": {},
     "output_type": "execute_result"
    }
   ],
   "source": [
    "len(splits)"
   ]
  },
  {
   "cell_type": "code",
   "execution_count": 24,
   "id": "d84121e1-3931-452b-9165-1ecb724caecd",
   "metadata": {},
   "outputs": [
    {
     "data": {
      "text/plain": [
       "Document(page_content='Helsingør Kommune. Kommuneskatten er på 25,52% og grundskyldspromillen på 28,5‰.Udforsk KvistgårdSkoler i Kvistgård tæt på boligenFolkeskolerPrivatskolerNavnTrivselKaraktergennemsnitAfstandBoligen er sat til salg hosdanbolig HelsingørKongensgade 2, st., 3000 HelsingørTelefon: 49 26 11 00E-mail: helsingoer@danbolig.dkheart-oGem boligSe hos', metadata={'source': 'https://www.boligsiden.dk/adresse/gurrevej-407a-3490-kvistgaard-02172600407a_______?udbud=dd9dbef5-cbb6-4692-89c9-2edf7e4a13df', 'title': 'Til salg: Gurrevej 407A, Gurre, Kvistgård - Villa på 152 m² - Boligsiden', 'description': 'Gurrevej 407A, Gurre, 3490 Kvistgård. Beliggende i smukke omgivelse med udsigt over åbne marker og Gurre Slotsruin, har vi netop fået denne landlige ejen', 'language': 'da'})"
      ]
     },
     "execution_count": 24,
     "metadata": {},
     "output_type": "execute_result"
    }
   ],
   "source": [
    "splits[70]"
   ]
  },
  {
   "cell_type": "code",
   "execution_count": 25,
   "id": "9e17a89b-49ae-4680-8788-a730dcfeca07",
   "metadata": {},
   "outputs": [
    {
     "data": {
      "text/html": [
       "<div>\n",
       "<style scoped>\n",
       "    .dataframe tbody tr th:only-of-type {\n",
       "        vertical-align: middle;\n",
       "    }\n",
       "\n",
       "    .dataframe tbody tr th {\n",
       "        vertical-align: top;\n",
       "    }\n",
       "\n",
       "    .dataframe thead th {\n",
       "        text-align: right;\n",
       "    }\n",
       "</style>\n",
       "<table border=\"1\" class=\"dataframe\">\n",
       "  <thead>\n",
       "    <tr style=\"text-align: right;\">\n",
       "      <th></th>\n",
       "      <th>page_content</th>\n",
       "      <th>metadata</th>\n",
       "      <th>type</th>\n",
       "    </tr>\n",
       "  </thead>\n",
       "  <tbody>\n",
       "    <tr>\n",
       "      <th>41</th>\n",
       "      <td>(page_content, Til salg: Kongensbrovej 21, Aid...</td>\n",
       "      <td>(metadata, {'source': 'https://www.boligsiden....</td>\n",
       "      <td>(type, Document)</td>\n",
       "    </tr>\n",
       "    <tr>\n",
       "      <th>25</th>\n",
       "      <td>(page_content, udviklingBoligens tidslinje8. j...</td>\n",
       "      <td>(metadata, {'source': 'https://www.boligsiden....</td>\n",
       "      <td>(type, Document)</td>\n",
       "    </tr>\n",
       "    <tr>\n",
       "      <th>14</th>\n",
       "      <td>(page_content, udsigt!En unik udsigtsvilla i t...</td>\n",
       "      <td>(metadata, {'source': 'https://www.boligsiden....</td>\n",
       "      <td>(type, Document)</td>\n",
       "    </tr>\n",
       "    <tr>\n",
       "      <th>65</th>\n",
       "      <td>(page_content, KvistgårdEnergimærke CVillaSe 5...</td>\n",
       "      <td>(metadata, {'source': 'https://www.boligsiden....</td>\n",
       "      <td>(type, Document)</td>\n",
       "    </tr>\n",
       "    <tr>\n",
       "      <th>59</th>\n",
       "      <td>(page_content, om boligenOmrådetDer er 97.358 ...</td>\n",
       "      <td>(metadata, {'source': 'https://www.boligsiden....</td>\n",
       "      <td>(type, Document)</td>\n",
       "    </tr>\n",
       "  </tbody>\n",
       "</table>\n",
       "</div>"
      ],
      "text/plain": [
       "                                         page_content  \\\n",
       "41  (page_content, Til salg: Kongensbrovej 21, Aid...   \n",
       "25  (page_content, udviklingBoligens tidslinje8. j...   \n",
       "14  (page_content, udsigt!En unik udsigtsvilla i t...   \n",
       "65  (page_content, KvistgårdEnergimærke CVillaSe 5...   \n",
       "59  (page_content, om boligenOmrådetDer er 97.358 ...   \n",
       "\n",
       "                                             metadata              type  \n",
       "41  (metadata, {'source': 'https://www.boligsiden....  (type, Document)  \n",
       "25  (metadata, {'source': 'https://www.boligsiden....  (type, Document)  \n",
       "14  (metadata, {'source': 'https://www.boligsiden....  (type, Document)  \n",
       "65  (metadata, {'source': 'https://www.boligsiden....  (type, Document)  \n",
       "59  (metadata, {'source': 'https://www.boligsiden....  (type, Document)  "
      ]
     },
     "execution_count": 25,
     "metadata": {},
     "output_type": "execute_result"
    }
   ],
   "source": [
    "df = pd.DataFrame(splits, columns=['page_content', 'metadata', 'type'])\n",
    "df.sample(5)"
   ]
  },
  {
   "cell_type": "code",
   "execution_count": 26,
   "id": "4108d7c9-93f2-4fc5-928d-9773c90e18ae",
   "metadata": {},
   "outputs": [
    {
     "data": {
      "text/plain": [
       "('page_content',\n",
       " 'Til salg: Niels Bohrs Vej 35A, Viby J - Villa på 205 m² - BoligsidenOpen main menuSøg boligBoliger til salg og lejeBoliger til salgLejeboligerTvangsauktionerLandbrugVærktøjer og guidesStatistik på priser og liggetidPriser på solgte boligerGuides til boligkøbFakta om alle boliger i DanmarkSe ejendomsvurderinger på kortFind mæglerHjælp til')"
      ]
     },
     "execution_count": 26,
     "metadata": {},
     "output_type": "execute_result"
    }
   ],
   "source": [
    "df['page_content'][0]"
   ]
  },
  {
   "cell_type": "code",
   "execution_count": 27,
   "id": "3ddea38f-5952-4875-92b3-7a307b53fbe0",
   "metadata": {},
   "outputs": [
    {
     "data": {
      "text/plain": [
       "('metadata',\n",
       " {'source': 'https://www.boligsiden.dk/adresse/niels-bohrs-vej-35a-8260-viby-j-07515829_35a_______?udbud=921aad54-6713-4809-ab12-ed4125ea0b39',\n",
       "  'title': 'Til salg: Niels Bohrs Vej 35A, Viby J - Villa på 205 m² - Boligsiden',\n",
       "  'description': 'Niels Bohrs Vej 35A, 8260 Viby J. Ekstraordinær Funkisvilla i Fysikerkvarteret, Kongsvang\\nDrømmer du om at bo i en moderne, lavenergivindende bolig m',\n",
       "  'language': 'da'})"
      ]
     },
     "execution_count": 27,
     "metadata": {},
     "output_type": "execute_result"
    }
   ],
   "source": [
    "df['metadata'][0]"
   ]
  },
  {
   "cell_type": "code",
   "execution_count": 28,
   "id": "b6d67e7d-c2c3-45d5-a234-ae896ab6ad3c",
   "metadata": {},
   "outputs": [
    {
     "name": "stdout",
     "output_type": "stream",
     "text": [
      "Loading model: en_core_web_md\n"
     ]
    }
   ],
   "source": [
    "im, longstring = myutils.wordCloud(df, 'page_content')"
   ]
  },
  {
   "cell_type": "code",
   "execution_count": 29,
   "id": "ab069aa3-9ed1-4d69-a4b0-4ba553642522",
   "metadata": {},
   "outputs": [
    {
     "data": {
      "image/jpeg": "[encoded data removed]",
      "image/png": "[encoded data removed]",
      "text/plain": [
       "<PIL.Image.Image image mode=RGB size=400x200>"
      ]
     },
     "execution_count": 29,
     "metadata": {},
     "output_type": "execute_result"
    }
   ],
   "source": [
    "im"
   ]
  },
  {
   "cell_type": "markdown",
   "id": "119d090f-0f4c-415c-8cd0-fae990e23928",
   "metadata": {},
   "source": [
    "# Store documents in vector database"
   ]
  },
  {
   "cell_type": "code",
   "execution_count": 30,
   "id": "01024f10-8a54-4f25-8c33-c38ee1ffef1b",
   "metadata": {},
   "outputs": [],
   "source": [
    "model_name = \"sentence-transformers/all-mpnet-base-v2\"\n",
    "model_kwargs = {'device': 'cpu'}\n",
    "encode_kwargs = {'normalize_embeddings': False}"
   ]
  },
  {
   "cell_type": "code",
   "execution_count": 31,
   "id": "cccfaa87-7e35-4339-bf3a-10e260b69d41",
   "metadata": {},
   "outputs": [
    {
     "name": "stderr",
     "output_type": "stream",
     "text": [
      "/opt/homebrew/lib/python3.12/site-packages/tqdm/auto.py:21: TqdmWarning: IProgress not found. Please update jupyter and ipywidgets. See https://ipywidgets.readthedocs.io/en/stable/user_install.html\n",
      "  from .autonotebook import tqdm as notebook_tqdm\n",
      "/opt/homebrew/lib/python3.12/site-packages/huggingface_hub/file_download.py:1132: FutureWarning: `resume_download` is deprecated and will be removed in version 1.0.0. Downloads always resume when possible. If you want to force a new download, use `force_download=True`.\n",
      "  warnings.warn(\n",
      "/opt/homebrew/lib/python3.12/site-packages/huggingface_hub/file_download.py:1132: FutureWarning: `resume_download` is deprecated and will be removed in version 1.0.0. Downloads always resume when possible. If you want to force a new download, use `force_download=True`.\n",
      "  warnings.warn(\n"
     ]
    }
   ],
   "source": [
    "embeddings = HuggingFaceEmbeddings(\n",
    "    model_name=model_name,\n",
    "    model_kwargs=model_kwargs,\n",
    "    encode_kwargs=encode_kwargs\n",
    ")"
   ]
  },
  {
   "cell_type": "code",
   "execution_count": 32,
   "id": "f9622a70-b991-4bc2-96dd-d463e99e087e",
   "metadata": {},
   "outputs": [],
   "source": [
    "persist_directory = '../data/chroma/'\n",
    "\n",
    "vectordb = Chroma.from_documents(\n",
    "    documents=splits,\n",
    "    embedding=embeddings,\n",
    "    persist_directory=persist_directory\n",
    ")\n",
    "vectordb.persist()"
   ]
  },
  {
   "cell_type": "code",
   "execution_count": 33,
   "id": "c178041e-a544-41a6-bfb0-733deaa623da",
   "metadata": {},
   "outputs": [
    {
     "data": {
      "text/plain": [
       "887"
      ]
     },
     "execution_count": 33,
     "metadata": {},
     "output_type": "execute_result"
    }
   ],
   "source": [
    "vectordb._collection.count()"
   ]
  },
  {
   "cell_type": "code",
   "execution_count": 34,
   "id": "57e71624-ba03-44c2-8d57-edbbae9b2d14",
   "metadata": {},
   "outputs": [],
   "source": [
    "query = 'You are an expert programmer that writes simple, concise code and explanations. Create me a document in html format with the following information displayed in a nice way so that I can use it in a pdf-format and download it: a house of type \"Villa\" with price: \"1000kr\" and size: \"78m2\" with a describtion'"
   ]
  },
  {
   "cell_type": "code",
   "execution_count": 35,
   "id": "b78c888b-0533-4c51-9c94-1c959062d09d",
   "metadata": {},
   "outputs": [
    {
     "data": {
      "text/plain": [
       "[Document(page_content='Villa fra EDCEriksensvej 176710 Esbjerg V3.500.000 kr.Villa - 5/4 rum, 164 m²Villa fra EDCEriksensvej 176710 Esbjerg V3.500.000 kr.Villa - 5/4 rum, 164 m²Nyhed260 visninger de seneste 24 timerÅbent', metadata={'description': 'Villa til salg hos EDC Gilbjerg & Madsen. Bestil en fremvisning af Villaen på Eriksensvej 17, 6710 allerede i dag. ', 'language': 'da', 'source': 'https://www.edc.dk/alle-boliger/villa/6710-esbjerg-v/eriksensvej-17/61802766/', 'title': 'Villa til salg - Eriksensvej 17 '}),\n",
       " Document(page_content='Villa fra EDCEriksensvej 176710 Esbjerg V3.500.000 kr.Villa - 5/4 rum, 164 m²Villa fra EDCEriksensvej 176710 Esbjerg V3.500.000 kr.Villa - 5/4 rum, 164 m²Nyhed260 visninger de seneste 24 timerÅbent', metadata={'description': 'Villa til salg hos EDC Gilbjerg & Madsen. Bestil en fremvisning af Villaen på Eriksensvej 17, 6710 allerede i dag. ', 'language': 'da', 'source': 'https://www.edc.dk/alle-boliger/villa/6710-esbjerg-v/eriksensvej-17/61802766/', 'title': 'Villa til salg - Eriksensvej 17 '}),\n",
       " Document(page_content='Til salg: Tousvej 18, Åbyhøj - Villa på 130 m² - BoligsidenOpen main menuSøg boligBoliger til salg og lejeBoliger til salgLejeboligerTvangsauktionerLandbrugVærktøjer og guidesStatistik på priser og liggetidPriser på solgte boligerGuides til boligkøbFakta om alle boliger i DanmarkSe ejendomsvurderinger på kortFind mæglerHjælp til boligsalgFind', metadata={'description': 'Tousvej 18, 8230 Åbyhøj. En unik udsigtsvilla i tre forskudte plan og med et spændende arkitektonisk udtryk udbydes nu i populære Åbyhøj og ', 'language': 'da', 'source': 'https://www.boligsiden.dk/adresse/tousvej-18-8230-aabyhoej-07518710__18_______?udbud=6a9d2e48-3f03-4b3e-a786-6870b1422c6a', 'title': 'Til salg: Tousvej 18, Åbyhøj - Villa på 130 m² - Boligsiden'})]"
      ]
     },
     "execution_count": 35,
     "metadata": {},
     "output_type": "execute_result"
    }
   ],
   "source": [
    "answer = vectordb.similarity_search(query, k=3)\n",
    "answer"
   ]
  },
  {
   "cell_type": "code",
   "execution_count": 36,
   "id": "a3dc488d-8866-4b6a-b5a3-27938616a3fc",
   "metadata": {},
   "outputs": [
    {
     "name": "stdout",
     "output_type": "stream",
     "text": [
      "Villa fra EDCEriksensvej 176710 Esbjerg V3.500.000 kr.Villa - 5/4 rum, 164 m²Villa fra EDCEriksensvej 176710 Esbjerg V3.500.000 kr.Villa - 5/4 rum, 164 m²Nyhed260 visninger de seneste 24 timerÅbent\n",
      "Villa fra EDCEriksensvej 176710 Esbjerg V3.500.000 kr.Villa - 5/4 rum, 164 m²Villa fra EDCEriksensvej 176710 Esbjerg V3.500.000 kr.Villa - 5/4 rum, 164 m²Nyhed260 visninger de seneste 24 timerÅbent\n",
      "Til salg: Tousvej 18, Åbyhøj - Villa på 130 m² - BoligsidenOpen main menuSøg boligBoliger til salg og lejeBoliger til salgLejeboligerTvangsauktionerLandbrugVærktøjer og guidesStatistik på priser og liggetidPriser på solgte boligerGuides til boligkøbFakta om alle boliger i DanmarkSe ejendomsvurderinger på kortFind mæglerHjælp til boligsalgFind\n"
     ]
    }
   ],
   "source": [
    "for d in answer:\n",
    "    print(d.page_content)"
   ]
  },
  {
   "cell_type": "code",
   "execution_count": 37,
   "id": "5180878a-214a-4e2d-929b-019fcb9e05ff",
   "metadata": {},
   "outputs": [],
   "source": [
    "from langchain.llms import Ollama\n",
    "from langchain.chains import RetrievalQA\n",
    "from langchain.prompts import PromptTemplate"
   ]
  },
  {
   "cell_type": "code",
   "execution_count": 38,
   "id": "e7adfa73-cbcd-44c9-8cf3-478458039ad2",
   "metadata": {},
   "outputs": [
    {
     "name": "stdout",
     "output_type": "stream",
     "text": [
      "NAME          \tID          \tSIZE  \tMODIFIED    \n",
      "mistral:latest\t61e88e884507\t4.1 GB\t3 weeks ago\t\n",
      "llama3:latest \ta6990ed6be41\t4.7 GB\t3 weeks ago\t\n"
     ]
    },
    {
     "name": "stderr",
     "output_type": "stream",
     "text": [
      "huggingface/tokenizers: The current process just got forked, after parallelism has already been used. Disabling parallelism to avoid deadlocks...\n",
      "To disable this warning, you can either:\n",
      "\t- Avoid using `tokenizers` before the fork if possible\n",
      "\t- Explicitly set the environment variable TOKENIZERS_PARALLELISM=(true | false)\n"
     ]
    }
   ],
   "source": [
    "!ollama list"
   ]
  },
  {
   "cell_type": "code",
   "execution_count": 39,
   "id": "f5d7604f-bc0f-40c5-b270-f655907ea39f",
   "metadata": {},
   "outputs": [],
   "source": [
    "llm = Ollama(model=\"mistral\", callback_manager = CallbackManager([StreamingStdOutCallbackHandler()]))"
   ]
  },
  {
   "cell_type": "code",
   "execution_count": 51,
   "id": "a99ff13e-bf2b-4fb9-9c92-d5d6db333718",
   "metadata": {},
   "outputs": [],
   "source": [
    "template = \"\"\"\n",
    "Danish zipcodes and citynames: [\n",
    "    'Choose Zip', '2100 (København Ø)', '2620 (Albertslund)', '2740 (Skovlunde)', '2750 (Ballerup)',\n",
    "    '2760 (Måløv)', '2950 (Vedbæk)', '2960 (Rungsted Kyst)', '2970 (Hørsholm)', '2980 (Kokkedal)',\n",
    "    '2990 (Nivå)', '3000 (Helsingør)', '3050 (Humlebæk)', '3060 (Espergærde)', '3070 (Snekkersten)',\n",
    "    '3080 (Tikøb)', '3100 (Hornbæk)', '3120 (Dronningmølle)', '3140 (Ålsgårde)', '3150 (Hellebæk)',\n",
    "    '3200 (Helsinge)', '3210 (Vejby)', '3220 (Tisvildeleje)', '3230 (Græsted)', '3250 (Gilleleje)',\n",
    "    '3320 (Skævinge)', '3480 (Fredensborg)', '3490 (Kvistgård)', '2300 (København S)', '2400 (København NV)',\n",
    "    '2450 (København SV)', '2500 (Valby)', '2600 (Glostrup)', '2610 (Rødovre)', '2630 (Taastrup)',\n",
    "    '2640 (Hedehusene)', '2650 (Hvidovre)', '2690 (Karlslunde)', '2700 (Brønshøj)', '2720 (Vanløse)',\n",
    "    '2765 (Smørum)', '2770 (Kastrup)', '2791 (Dragør)', '2800 (Lyngby)', '2820 (Gentofte)', '2830 (Virum)',\n",
    "    '2840 (Holte)', '2850 (Nærum)', '2860 (Søborg)', '2870 (Dyssegård)', '2880 (Bagsværd)', '2900 (Hellerup)',\n",
    "    '2920 (Charlottenlund)', '2930 (Klampenborg)', '2942 (Skodsborg)', '3300 (Frederiksværk)',\n",
    "    '3310 (Ølsted)', '3360 (Liseleje)', '3370 (Melby)', '3400 (Hillerød)', '3450 (Allerød)', '3460 (Birkerød)',\n",
    "    '3540 (Lynge)', '3550 (Slangerup)', '3600 (Frederikssund)', '3650 (Ølstykke)', '3660 (Stenløse)',\n",
    "]\n",
    "\n",
    "I would like the HTML format that you are going to output to include key features of the house: \n",
    "name of the address and zipcode (location in Denmark), size in m2, type of house, energy class, amount of rooms, construction year, risk of burglary, \n",
    "distance to pharmacy (m), distance to daycare (m) and finally distance to grocery store (m).\n",
    "Also have a medium-long paragraph describing the house. Try to sell it. If any information is missing from the answer, then write a paragraph at the bottom stating that some information about the house is missing, but there is going to be \"Åbent hus\" very soon and that the reader should subscribe to the email service to find out asap. \n",
    "Also below Energy class E is not so good.\n",
    "Also style the document. Make it nice, professional, and presentable.\n",
    "Always end with a paragraph saying \"happy house hunting\". Do not try and make up an answer. Follow the instructions.\n",
    "\n",
    "\n",
    "{context}\n",
    "\n",
    "Question: {question}\n",
    "\n",
    "Helpful HTML Answer than I will download as pdf:\n",
    "\"\"\"\n"
   ]
  },
  {
   "cell_type": "code",
   "execution_count": 52,
   "id": "7eb840df-114d-4f81-bce5-bb653331100e",
   "metadata": {},
   "outputs": [],
   "source": [
    "prompt = PromptTemplate.from_template(template)\n",
    "chain = RetrievalQA.from_chain_type(\n",
    "    llm,\n",
    "    retriever=vectordb.as_retriever(),\n",
    "    return_source_documents=True,\n",
    "    chain_type_kwargs={\"prompt\": prompt})"
   ]
  },
  {
   "cell_type": "code",
   "execution_count": 49,
   "id": "f0d990fe-3781-4b33-9040-6b833852ec9b",
   "metadata": {},
   "outputs": [],
   "source": [
    "query = \"Præsenter min bolig, der har addressen Jacobvej 2, zipcode is 3000, typen er villa, byggeåret er 2003, risiko for indbrud er lav, antal værelser er 3, distance to pharmacy is 300m, distance to daycare is 200 m, distance to grocery store is 400 m \""
   ]
  },
  {
   "cell_type": "code",
   "execution_count": 53,
   "id": "7a131674-06b1-4618-b426-5b846f481258",
   "metadata": {},
   "outputs": [
    {
     "name": "stdout",
     "output_type": "stream",
     "text": [
      " <!DOCTYPE html>\n",
      "<html lang=\"en\">\n",
      "<head>\n",
      " <meta charset=\"UTF-8\">\n",
      " <meta name=\"viewport\" content=\"width=device-width, initial-scale=1.0\">\n",
      " <title>Your Beautiful Home in Copenhagen</title>\n",
      " <style>\n",
      " body {\n",
      " font-family: Arial, sans-serif;\n",
      " line-height: 1.6;\n",
      " text-align: center;\n",
      " padding: 2rem;\n",
      " }\n",
      " h1 {\n",
      " color: #4CAF50;\n",
      " font-size: 3rem;\n",
      " margin-bottom: 1rem;\n",
      " text-shadow: 2px 2px 2px rgba(0, 0, 0, 0.3);\n",
      " }\n",
      " p {\n",
      " font-size: 1.1rem;\n",
      " line-height: 1.6;\n",
      " margin: 0 auto;\n",
      " width: 75%;\n",
      " text-align: justify;\n",
      " background-color: #f2f2f2;\n",
      " padding: 1.5rem;\n",
      " box-shadow: 2px 2px 5px rgba(0, 0, 0, 0.3);\n",
      " }\n",
      " table {\n",
      " width: 100%;\n",
      " margin-top: 2rem;\n",
      " border-collapse: collapse;\n",
      " text-align: left;\n",
      " }\n",
      " th, td {\n",
      " padding: 1.2rem;\n",
      " text-align: left;\n",
      " border: 1px solid #ddd;\n",
      " }\n",
      " th {\n",
      " background-color: #4CAF50;\n",
      " color: white;\n",
      " }\n",
      " tr:nth-child(even) {\n",
      " background-color: #f2f2f2;\n",
      " }\n",
      " </style>\n",
      "</head>\n",
      "<body>\n",
      " <h1>Your Charming Villa at Jacobvej 2, 3000 Copenhagen</h1>\n",
      " <p>Welcome to your enchanting villa nestled in the heart of Copenhagen, specifically located at Jacobvej 2 with a postal code of 3000. This breathtaking property exudes both comfort and sophistication, boasting an impressive 70 square meters of living space.</p>\n",
      " <table>\n",
      " <thead>\n",
      " <tr>\n",
      " <th>Address:</th>\n",
      " <td>Jacobvej 2, 3000 Copenhagen</td>\n",
      " </tr>\n",
      " <tr>\n",
      " <th>Size:</th>\n",
      " <td>70 m<sup>2</sup></td>\n",
      " </tr>\n",
      " <tr>\n",
      " <th>Type:</th>\n",
      " <td>Villa</td>\n",
      " </tr>\n",
      " <th>Construction Year:</th>\n",
      " <td>2003</td>\n",
      " </tr>\n",
      " <th>Number of Rooms:</th>\n",
      " <td>3</td>\n",
      " </tr>\n",
      " <th>Burglary Risk:</th>\n",
      " <td>Low</td>\n",
      " </tr>\n",
      " <th>Distance to Pharmacy:</th>\n",
      " <td>300 m</td>\n",
      " </tr>\n",
      " <th>Distance to Daycare:</th>\n",
      " <td>200 m</td>\n",
      " </tr>\n",
      " <th>Distance to Grocery Store:</th>\n",
      " <td>400 m</td>\n",
      " </tr>\n",
      " </thead>\n",
      " </table>\n",
      " <p>The villa, built in 2003, offers a low risk of burglary due to its robust security features. With three alluring rooms, you'll have ample space for entertaining guests or creating your perfect sanctuary. Situated just a short stroll away from essential amenities such as pharmacies and daycares, your new home is both convenient and private.</p>\n",
      "</body>\n",
      "</html"
     ]
    },
    {
     "data": {
      "text/plain": [
       "' <!DOCTYPE html>\\n<html lang=\"en\">\\n<head>\\n <meta charset=\"UTF-8\">\\n <meta name=\"viewport\" content=\"width=device-width, initial-scale=1.0\">\\n <title>Your Beautiful Home in Copenhagen</title>\\n <style>\\n body {\\n font-family: Arial, sans-serif;\\n line-height: 1.6;\\n text-align: center;\\n padding: 2rem;\\n }\\n h1 {\\n color: #4CAF50;\\n font-size: 3rem;\\n margin-bottom: 1rem;\\n text-shadow: 2px 2px 2px rgba(0, 0, 0, 0.3);\\n }\\n p {\\n font-size: 1.1rem;\\n line-height: 1.6;\\n margin: 0 auto;\\n width: 75%;\\n text-align: justify;\\n background-color: #f2f2f2;\\n padding: 1.5rem;\\n box-shadow: 2px 2px 5px rgba(0, 0, 0, 0.3);\\n }\\n table {\\n width: 100%;\\n margin-top: 2rem;\\n border-collapse: collapse;\\n text-align: left;\\n }\\n th, td {\\n padding: 1.2rem;\\n text-align: left;\\n border: 1px solid #ddd;\\n }\\n th {\\n background-color: #4CAF50;\\n color: white;\\n }\\n tr:nth-child(even) {\\n background-color: #f2f2f2;\\n }\\n </style>\\n</head>\\n<body>\\n <h1>Your Charming Villa at Jacobvej 2, 3000 Copenhagen</h1>\\n <p>Welcome to your enchanting villa nestled in the heart of Copenhagen, specifically located at Jacobvej 2 with a postal code of 3000. This breathtaking property exudes both comfort and sophistication, boasting an impressive 70 square meters of living space.</p>\\n <table>\\n <thead>\\n <tr>\\n <th>Address:</th>\\n <td>Jacobvej 2, 3000 Copenhagen</td>\\n </tr>\\n <tr>\\n <th>Size:</th>\\n <td>70 m<sup>2</sup></td>\\n </tr>\\n <tr>\\n <th>Type:</th>\\n <td>Villa</td>\\n </tr>\\n <th>Construction Year:</th>\\n <td>2003</td>\\n </tr>\\n <th>Number of Rooms:</th>\\n <td>3</td>\\n </tr>\\n <th>Burglary Risk:</th>\\n <td>Low</td>\\n </tr>\\n <th>Distance to Pharmacy:</th>\\n <td>300 m</td>\\n </tr>\\n <th>Distance to Daycare:</th>\\n <td>200 m</td>\\n </tr>\\n <th>Distance to Grocery Store:</th>\\n <td>400 m</td>\\n </tr>\\n </thead>\\n </table>\\n <p>The villa, built in 2003, offers a low risk of burglary due to its robust security features. With three alluring rooms, you\\'ll have ample space for entertaining guests or creating your perfect sanctuary. Situated just a short stroll away from essential amenities such as pharmacies and daycares, your new home is both convenient and private.</p>\\n</body>\\n</html'"
      ]
     },
     "execution_count": 53,
     "metadata": {},
     "output_type": "execute_result"
    }
   ],
   "source": [
    "result = chain({\"query\": query})\n",
    "result[\"result\"]"
   ]
  },
  {
   "cell_type": "code",
   "execution_count": 44,
   "id": "4a36ea9e-5896-4dfb-aff2-0e1f3dfdcdd6",
   "metadata": {},
   "outputs": [],
   "source": [
    "import pdfkit"
   ]
  },
  {
   "cell_type": "code",
   "execution_count": 45,
   "id": "b2b0bf8a-607f-44c2-a9af-ef7e147d8186",
   "metadata": {},
   "outputs": [],
   "source": [
    "def create_pdf(html_content, output_path):\n",
    "    pdfkit.from_string(html_content, output_path, options={\"enable-local-file-access\": \"\"})"
   ]
  },
  {
   "cell_type": "code",
   "execution_count": 46,
   "id": "f2f02917-ae34-4bb2-bd30-1f232e959bb5",
   "metadata": {},
   "outputs": [
    {
     "name": "stderr",
     "output_type": "stream",
     "text": [
      "huggingface/tokenizers: The current process just got forked, after parallelism has already been used. Disabling parallelism to avoid deadlocks...\n",
      "To disable this warning, you can either:\n",
      "\t- Avoid using `tokenizers` before the fork if possible\n",
      "\t- Explicitly set the environment variable TOKENIZERS_PARALLELISM=(true | false)\n",
      "huggingface/tokenizers: The current process just got forked, after parallelism has already been used. Disabling parallelism to avoid deadlocks...\n",
      "To disable this warning, you can either:\n",
      "\t- Avoid using `tokenizers` before the fork if possible\n",
      "\t- Explicitly set the environment variable TOKENIZERS_PARALLELISM=(true | false)\n"
     ]
    }
   ],
   "source": [
    "result_html = result[\"result\"]\n",
    "create_pdf(result_html, \"hus_report.pdf\")"
   ]
  }
 ],
 "metadata": {
  "kernelspec": {
   "display_name": "Python 3 (ipykernel)",
   "language": "python",
   "name": "python3"
  },
  "language_info": {
   "codemirror_mode": {
    "name": "ipython",
    "version": 3
   },
   "file_extension": ".py",
   "mimetype": "text/x-python",
   "name": "python",
   "nbconvert_exporter": "python",
   "pygments_lexer": "ipython3",
   "version": "3.11.9"
  }
 },
 "nbformat": 4,
 "nbformat_minor": 5
}
