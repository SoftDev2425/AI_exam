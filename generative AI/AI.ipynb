{
 "cells": [
  {
   "cell_type": "code",
   "execution_count": 1,
   "id": "18370816-b759-42e6-88e2-b65e56131c8b",
   "metadata": {},
   "outputs": [],
   "source": [
    "import torch"
   ]
  },
  {
   "cell_type": "code",
   "execution_count": 2,
   "id": "cbfbfebf-3340-4160-8ddf-95ab4481db10",
   "metadata": {},
   "outputs": [],
   "source": [
    "import pandas as pd"
   ]
  },
  {
   "cell_type": "code",
   "execution_count": 3,
   "id": "ff8a3612-c6cc-401d-b3bf-832a18109173",
   "metadata": {},
   "outputs": [],
   "source": [
    "import langdetect\n",
    "from langdetect import DetectorFactory, detect, detect_langs"
   ]
  },
  {
   "cell_type": "code",
   "execution_count": 4,
   "id": "9d2e46cd-dbcd-4f46-9f08-2cdc93d34a52",
   "metadata": {},
   "outputs": [],
   "source": [
    "from langchain.callbacks.manager import CallbackManager\n",
    "from langchain.callbacks.streaming_stdout import StreamingStdOutCallbackHandler"
   ]
  },
  {
   "cell_type": "code",
   "execution_count": 5,
   "id": "c7f31be9-94ee-4bfc-adfb-82ffd2811536",
   "metadata": {},
   "outputs": [],
   "source": [
    "from langchain.docstore.document import Document\n",
    "from langchain.text_splitter import RecursiveCharacterTextSplitter\n",
    "from langchain.vectorstores import Chroma\n",
    "from langchain.chains import ConversationalRetrievalChain\n",
    "from langchain.memory import ConversationBufferMemory\n",
    "from langchain.prompts import PromptTemplate"
   ]
  },
  {
   "cell_type": "code",
   "execution_count": 6,
   "id": "66cc012a-a989-4187-9c2b-e35ca10fff7e",
   "metadata": {},
   "outputs": [],
   "source": [
    "from langchain.embeddings import HuggingFaceEmbeddings"
   ]
  },
  {
   "cell_type": "code",
   "execution_count": 7,
   "id": "9dcc0a7f-11d9-46d7-aa57-4ad664f3b29e",
   "metadata": {},
   "outputs": [],
   "source": [
    "from langchain import HuggingFacePipeline\n",
    "from langchain.chains import RetrievalQA"
   ]
  },
  {
   "cell_type": "code",
   "execution_count": 8,
   "id": "7516500f-a17a-4756-9338-23a5ae4d80f2",
   "metadata": {},
   "outputs": [],
   "source": [
    "import myloadlib\n",
    "from myloadlib import loadDir, loadFile, loadWiki, loadYoutube, readAPI"
   ]
  },
  {
   "cell_type": "code",
   "execution_count": 9,
   "id": "d2b5807c-5122-4999-a28e-e59d4aa6aa41",
   "metadata": {},
   "outputs": [
    {
     "data": {
      "text/plain": [
       "<module 'myloadlib' from 'C:\\\\Users\\\\andre\\\\Software udvikling\\\\AI_exam\\\\generative AI\\\\myloadlib.py'>"
      ]
     },
     "execution_count": 9,
     "metadata": {},
     "output_type": "execute_result"
    }
   ],
   "source": [
    "import importlib\n",
    "importlib.reload(myloadlib)"
   ]
  },
  {
   "cell_type": "code",
   "execution_count": 10,
   "id": "ece1dd52-5222-47ba-b539-7eda4043e6d0",
   "metadata": {},
   "outputs": [],
   "source": [
    "documents = []"
   ]
  },
  {
   "cell_type": "markdown",
   "id": "2056d042-3b81-4407-983c-2649b688e72c",
   "metadata": {},
   "source": [
    "# Loading PDF"
   ]
  },
  {
   "cell_type": "code",
   "execution_count": 11,
   "id": "2d1385e3-0c5e-4a1f-90cb-b4ffe136ded1",
   "metadata": {},
   "outputs": [],
   "source": [
    "file = \"./Rapport om Hussalg.pdf\""
   ]
  },
  {
   "cell_type": "code",
   "execution_count": 12,
   "id": "506f18eb-640f-48fc-baf3-bc707eb3d8d4",
   "metadata": {},
   "outputs": [],
   "source": [
    "docs = loadFile(file)"
   ]
  },
  {
   "cell_type": "code",
   "execution_count": 13,
   "id": "88bfad51-0928-4299-baec-8f6e6e810ef9",
   "metadata": {},
   "outputs": [],
   "source": [
    "documents.extend(docs)"
   ]
  },
  {
   "cell_type": "code",
   "execution_count": 14,
   "id": "6d25fe4f-3dcd-469d-999a-432b35cc5033",
   "metadata": {},
   "outputs": [
    {
     "data": {
      "text/plain": [
       "2"
      ]
     },
     "execution_count": 14,
     "metadata": {},
     "output_type": "execute_result"
    }
   ],
   "source": [
    "len(documents)"
   ]
  },
  {
   "cell_type": "code",
   "execution_count": 15,
   "id": "ef08e7e2-4259-4889-8e8c-685f27062713",
   "metadata": {},
   "outputs": [
    {
     "data": {
      "text/plain": [
       "'Risiko for indbrud : \\n[Indsæt kategorien for risiko for indbrud ] \\nKontaktoplysninger  \\nEjendomsmægler:  \\n[Indsæt navn på ejendomsmægler]  \\nTelefonnummer:  \\n[Indsæt telefonnummer]  \\nEmail:  \\n[Indsæt emailadresse]  '"
      ]
     },
     "execution_count": 15,
     "metadata": {},
     "output_type": "execute_result"
    }
   ],
   "source": [
    "documents[1].page_content[:300]"
   ]
  },
  {
   "cell_type": "markdown",
   "id": "60079dfa-93dc-4008-a275-4d7d236e7826",
   "metadata": {},
   "source": [
    "# Transforming text to prepare if for AI processing."
   ]
  },
  {
   "cell_type": "code",
   "execution_count": 16,
   "id": "28e43e64-2c10-40fd-af01-fb292cafe6d9",
   "metadata": {},
   "outputs": [],
   "source": [
    "import myutils\n",
    "from myutils import chunkDocs, langDetect, wordCloud "
   ]
  },
  {
   "cell_type": "code",
   "execution_count": 17,
   "id": "a34bded0-b6bd-4f4d-bc9d-b347aafb0894",
   "metadata": {},
   "outputs": [
    {
     "data": {
      "text/plain": [
       "<module 'myutils' from 'C:\\\\Users\\\\andre\\\\Software udvikling\\\\AI_exam\\\\generative AI\\\\myutils.py'>"
      ]
     },
     "execution_count": 17,
     "metadata": {},
     "output_type": "execute_result"
    }
   ],
   "source": [
    "importlib.reload(myutils)"
   ]
  },
  {
   "cell_type": "code",
   "execution_count": 18,
   "id": "d8b977df-70ab-42cf-aa51-a8cf493efb18",
   "metadata": {},
   "outputs": [
    {
     "data": {
      "text/plain": [
       "[Document(page_content='Rapport om Hussalg  \\nEjendomsoplysninger  \\nAdresse:  \\n[Indsæt adresse]  \\nPostnummer og By:', metadata={'source': './Rapport om Hussalg.pdf', 'page': 0}),\n",
       " Document(page_content='[Indsæt postnummer og by]  \\nBoligtype:  \\n[Indsæt boligtype, fx villa, rækkehus, lejlighed]', metadata={'source': './Rapport om Hussalg.pdf', 'page': 0}),\n",
       " Document(page_content='Byggeår:  \\n[Indsæt byggeår]  \\nBoligareal:  \\n[Indsæt boligareal i kvadratmeter]  \\nAntal værelser:', metadata={'source': './Rapport om Hussalg.pdf', 'page': 0}),\n",
       " Document(page_content='[Indsæt antal værelser]  \\nBeliggenhed  \\nNærmeste Apotek : \\n[Indsæt afstand  til nærmest e apote k]', metadata={'source': './Rapport om Hussalg.pdf', 'page': 0}),\n",
       " Document(page_content='Nærmeste Børnehave : \\n[Indsæt afstand  til nærmest e apote k] \\nNærmeste Indkøbsbutik :', metadata={'source': './Rapport om Hussalg.pdf', 'page': 0}),\n",
       " Document(page_content='[Indsæt afstand  til nærmest e apote k] \\nØkonomiske Oplysninger  \\nPris:  \\n[Indsæt salgspris]', metadata={'source': './Rapport om Hussalg.pdf', 'page': 0}),\n",
       " Document(page_content='Pris i Kvadratmeter:  \\n[Indsæt k vadratmeterpris]  \\nTilstandsvurdering  \\nEnergimærke:', metadata={'source': './Rapport om Hussalg.pdf', 'page': 0}),\n",
       " Document(page_content='[Indsæt ejendommens energimærke]', metadata={'source': './Rapport om Hussalg.pdf', 'page': 0}),\n",
       " Document(page_content='Risiko for indbrud : \\n[Indsæt kategorien for risiko for indbrud ] \\nKontaktoplysninger', metadata={'source': './Rapport om Hussalg.pdf', 'page': 1}),\n",
       " Document(page_content='Ejendomsmægler:  \\n[Indsæt navn på ejendomsmægler]  \\nTelefonnummer:  \\n[Indsæt telefonnummer]', metadata={'source': './Rapport om Hussalg.pdf', 'page': 1}),\n",
       " Document(page_content='Email:  \\n[Indsæt emailadresse]', metadata={'source': './Rapport om Hussalg.pdf', 'page': 1})]"
      ]
     },
     "execution_count": 18,
     "metadata": {},
     "output_type": "execute_result"
    }
   ],
   "source": [
    "splits = myutils.chunkDocs(documents, 100)  \n",
    "splits"
   ]
  },
  {
   "cell_type": "code",
   "execution_count": 19,
   "id": "01ba7c9b-8326-43e1-8d62-3f920009ee21",
   "metadata": {},
   "outputs": [
    {
     "data": {
      "text/plain": [
       "11"
      ]
     },
     "execution_count": 19,
     "metadata": {},
     "output_type": "execute_result"
    }
   ],
   "source": [
    "len(splits)"
   ]
  },
  {
   "cell_type": "code",
   "execution_count": 20,
   "id": "d84121e1-3931-452b-9165-1ecb724caecd",
   "metadata": {},
   "outputs": [
    {
     "data": {
      "text/plain": [
       "Document(page_content='Risiko for indbrud : \\n[Indsæt kategorien for risiko for indbrud ] \\nKontaktoplysninger', metadata={'source': './Rapport om Hussalg.pdf', 'page': 1})"
      ]
     },
     "execution_count": 20,
     "metadata": {},
     "output_type": "execute_result"
    }
   ],
   "source": [
    "splits[8]"
   ]
  },
  {
   "cell_type": "code",
   "execution_count": 21,
   "id": "9e17a89b-49ae-4680-8788-a730dcfeca07",
   "metadata": {},
   "outputs": [
    {
     "data": {
      "text/html": [
       "<div>\n",
       "<style scoped>\n",
       "    .dataframe tbody tr th:only-of-type {\n",
       "        vertical-align: middle;\n",
       "    }\n",
       "\n",
       "    .dataframe tbody tr th {\n",
       "        vertical-align: top;\n",
       "    }\n",
       "\n",
       "    .dataframe thead th {\n",
       "        text-align: right;\n",
       "    }\n",
       "</style>\n",
       "<table border=\"1\" class=\"dataframe\">\n",
       "  <thead>\n",
       "    <tr style=\"text-align: right;\">\n",
       "      <th></th>\n",
       "      <th>page_content</th>\n",
       "      <th>metadata</th>\n",
       "      <th>type</th>\n",
       "    </tr>\n",
       "  </thead>\n",
       "  <tbody>\n",
       "    <tr>\n",
       "      <th>8</th>\n",
       "      <td>(page_content, Risiko for indbrud : \\n[Indsæt ...</td>\n",
       "      <td>(metadata, {'source': './Rapport om Hussalg.pd...</td>\n",
       "      <td>(type, Document)</td>\n",
       "    </tr>\n",
       "    <tr>\n",
       "      <th>6</th>\n",
       "      <td>(page_content, Pris i Kvadratmeter:  \\n[Indsæt...</td>\n",
       "      <td>(metadata, {'source': './Rapport om Hussalg.pd...</td>\n",
       "      <td>(type, Document)</td>\n",
       "    </tr>\n",
       "    <tr>\n",
       "      <th>7</th>\n",
       "      <td>(page_content, [Indsæt ejendommens energimærke])</td>\n",
       "      <td>(metadata, {'source': './Rapport om Hussalg.pd...</td>\n",
       "      <td>(type, Document)</td>\n",
       "    </tr>\n",
       "    <tr>\n",
       "      <th>1</th>\n",
       "      <td>(page_content, [Indsæt postnummer og by]  \\nBo...</td>\n",
       "      <td>(metadata, {'source': './Rapport om Hussalg.pd...</td>\n",
       "      <td>(type, Document)</td>\n",
       "    </tr>\n",
       "    <tr>\n",
       "      <th>3</th>\n",
       "      <td>(page_content, [Indsæt antal værelser]  \\nBeli...</td>\n",
       "      <td>(metadata, {'source': './Rapport om Hussalg.pd...</td>\n",
       "      <td>(type, Document)</td>\n",
       "    </tr>\n",
       "  </tbody>\n",
       "</table>\n",
       "</div>"
      ],
      "text/plain": [
       "                                        page_content  \\\n",
       "8  (page_content, Risiko for indbrud : \\n[Indsæt ...   \n",
       "6  (page_content, Pris i Kvadratmeter:  \\n[Indsæt...   \n",
       "7   (page_content, [Indsæt ejendommens energimærke])   \n",
       "1  (page_content, [Indsæt postnummer og by]  \\nBo...   \n",
       "3  (page_content, [Indsæt antal værelser]  \\nBeli...   \n",
       "\n",
       "                                            metadata              type  \n",
       "8  (metadata, {'source': './Rapport om Hussalg.pd...  (type, Document)  \n",
       "6  (metadata, {'source': './Rapport om Hussalg.pd...  (type, Document)  \n",
       "7  (metadata, {'source': './Rapport om Hussalg.pd...  (type, Document)  \n",
       "1  (metadata, {'source': './Rapport om Hussalg.pd...  (type, Document)  \n",
       "3  (metadata, {'source': './Rapport om Hussalg.pd...  (type, Document)  "
      ]
     },
     "execution_count": 21,
     "metadata": {},
     "output_type": "execute_result"
    }
   ],
   "source": [
    "df = pd.DataFrame(splits, columns=['page_content', 'metadata', 'type'])\n",
    "df.sample(5)"
   ]
  },
  {
   "cell_type": "code",
   "execution_count": 22,
   "id": "4108d7c9-93f2-4fc5-928d-9773c90e18ae",
   "metadata": {},
   "outputs": [
    {
     "data": {
      "text/plain": [
       "('page_content',\n",
       " 'Rapport om Hussalg  \\nEjendomsoplysninger  \\nAdresse:  \\n[Indsæt adresse]  \\nPostnummer og By:')"
      ]
     },
     "execution_count": 22,
     "metadata": {},
     "output_type": "execute_result"
    }
   ],
   "source": [
    "df['page_content'][0]"
   ]
  },
  {
   "cell_type": "code",
   "execution_count": 23,
   "id": "3ddea38f-5952-4875-92b3-7a307b53fbe0",
   "metadata": {},
   "outputs": [
    {
     "data": {
      "text/plain": [
       "('metadata', {'source': './Rapport om Hussalg.pdf', 'page': 0})"
      ]
     },
     "execution_count": 23,
     "metadata": {},
     "output_type": "execute_result"
    }
   ],
   "source": [
    "df['metadata'][0]"
   ]
  },
  {
   "cell_type": "code",
   "execution_count": 24,
   "id": "b6d67e7d-c2c3-45d5-a234-ae896ab6ad3c",
   "metadata": {},
   "outputs": [],
   "source": [
    "im, longstring = myutils.wordCloud(df, 'page_content')"
   ]
  },
  {
   "cell_type": "code",
   "execution_count": 25,
   "id": "ab069aa3-9ed1-4d69-a4b0-4ba553642522",
   "metadata": {},
   "outputs": [
    {
     "data": {
      "image/jpeg": "[encoded data removed]",
      "image/png": "[encoded data removed]",
      "text/plain": [
       "<PIL.Image.Image image mode=RGB size=400x200>"
      ]
     },
     "execution_count": 25,
     "metadata": {},
     "output_type": "execute_result"
    }
   ],
   "source": [
    "im"
   ]
  },
  {
   "cell_type": "markdown",
   "id": "119d090f-0f4c-415c-8cd0-fae990e23928",
   "metadata": {},
   "source": [
    "# Store documents in vector database"
   ]
  },
  {
   "cell_type": "code",
   "execution_count": 26,
   "id": "01024f10-8a54-4f25-8c33-c38ee1ffef1b",
   "metadata": {},
   "outputs": [],
   "source": [
    "model_name = \"sentence-transformers/all-mpnet-base-v2\"\n",
    "model_kwargs = {'device': 'cpu'}\n",
    "encode_kwargs = {'normalize_embeddings': False}"
   ]
  },
  {
   "cell_type": "code",
   "execution_count": 27,
   "id": "cccfaa87-7e35-4339-bf3a-10e260b69d41",
   "metadata": {},
   "outputs": [
    {
     "name": "stderr",
     "output_type": "stream",
     "text": [
      "C:\\Users\\andre\\anaconda3\\envs\\ai_exam\\Lib\\site-packages\\sentence_transformers\\cross_encoder\\CrossEncoder.py:11: TqdmWarning: IProgress not found. Please update jupyter and ipywidgets. See https://ipywidgets.readthedocs.io/en/stable/user_install.html\n",
      "  from tqdm.autonotebook import tqdm, trange\n",
      "C:\\Users\\andre\\anaconda3\\envs\\ai_exam\\Lib\\site-packages\\huggingface_hub\\file_download.py:1132: FutureWarning: `resume_download` is deprecated and will be removed in version 1.0.0. Downloads always resume when possible. If you want to force a new download, use `force_download=True`.\n",
      "  warnings.warn(\n"
     ]
    }
   ],
   "source": [
    "embeddings = HuggingFaceEmbeddings(\n",
    "    model_name=model_name,\n",
    "    model_kwargs=model_kwargs,\n",
    "    encode_kwargs=encode_kwargs\n",
    ")"
   ]
  },
  {
   "cell_type": "code",
   "execution_count": 28,
   "id": "f9622a70-b991-4bc2-96dd-d463e99e087e",
   "metadata": {},
   "outputs": [
    {
     "name": "stderr",
     "output_type": "stream",
     "text": [
      "C:\\Users\\andre\\anaconda3\\envs\\ai_exam\\Lib\\site-packages\\langchain_core\\_api\\deprecation.py:119: LangChainDeprecationWarning: Since Chroma 0.4.x the manual persistence method is no longer supported as docs are automatically persisted.\n",
      "  warn_deprecated(\n"
     ]
    }
   ],
   "source": [
    "persist_directory = '../data/chroma/'\n",
    "\n",
    "vectordb = Chroma.from_documents(\n",
    "    documents=splits,\n",
    "    embedding=embeddings,\n",
    "    persist_directory=persist_directory\n",
    ")\n",
    "vectordb.persist()"
   ]
  },
  {
   "cell_type": "code",
   "execution_count": 29,
   "id": "c178041e-a544-41a6-bfb0-733deaa623da",
   "metadata": {},
   "outputs": [
    {
     "data": {
      "text/plain": [
       "61"
      ]
     },
     "execution_count": 29,
     "metadata": {},
     "output_type": "execute_result"
    }
   ],
   "source": [
    "vectordb._collection.count()"
   ]
  },
  {
   "cell_type": "code",
   "execution_count": 30,
   "id": "57e71624-ba03-44c2-8d57-edbbae9b2d14",
   "metadata": {},
   "outputs": [],
   "source": [
    "query = 'Lav et dokument for et hus 1000 kroner værd'"
   ]
  },
  {
   "cell_type": "code",
   "execution_count": 31,
   "id": "b78c888b-0533-4c51-9c94-1c959062d09d",
   "metadata": {},
   "outputs": [
    {
     "data": {
      "text/plain": [
       "[Document(page_content='[Indsæt oplysninger om indkøbsmuligheder i området]', metadata={'page': 0, 'source': './Rapport om Hussalg.pdf'}),\n",
       " Document(page_content='[Indsæt afstand  til nærmest e apote k] \\nØkonomiske Oplysninger  \\nPris:  \\n[Indsæt salgspris]', metadata={'page': 0, 'source': './Rapport om Hussalg.pdf'}),\n",
       " Document(page_content='[Indsæt afstand  til nærmest e apote k] \\nØkonomiske Oplysninger  \\nPris:  \\n[Indsæt salgspris]', metadata={'page': 0, 'source': './Rapport om Hussalg.pdf'})]"
      ]
     },
     "execution_count": 31,
     "metadata": {},
     "output_type": "execute_result"
    }
   ],
   "source": [
    "answer = vectordb.similarity_search(query, k=3)\n",
    "answer"
   ]
  },
  {
   "cell_type": "code",
   "execution_count": 32,
   "id": "a3dc488d-8866-4b6a-b5a3-27938616a3fc",
   "metadata": {},
   "outputs": [
    {
     "name": "stdout",
     "output_type": "stream",
     "text": [
      "[Indsæt oplysninger om indkøbsmuligheder i området]\n",
      "[Indsæt afstand  til nærmest e apote k] \n",
      "Økonomiske Oplysninger  \n",
      "Pris:  \n",
      "[Indsæt salgspris]\n",
      "[Indsæt afstand  til nærmest e apote k] \n",
      "Økonomiske Oplysninger  \n",
      "Pris:  \n",
      "[Indsæt salgspris]\n"
     ]
    }
   ],
   "source": [
    "for d in answer:\n",
    "    print(d.page_content)"
   ]
  },
  {
   "cell_type": "code",
   "execution_count": 33,
   "id": "5180878a-214a-4e2d-929b-019fcb9e05ff",
   "metadata": {},
   "outputs": [],
   "source": [
    "from langchain.llms import Ollama\n",
    "from langchain.chains import RetrievalQA\n",
    "from langchain.prompts import PromptTemplate"
   ]
  },
  {
   "cell_type": "code",
   "execution_count": 34,
   "id": "e7adfa73-cbcd-44c9-8cf3-478458039ad2",
   "metadata": {},
   "outputs": [
    {
     "name": "stdout",
     "output_type": "stream",
     "text": [
      "NAME          \tID          \tSIZE  \tMODIFIED    \n",
      "mistral:latest\t2ae6f6dd7a3d\t4.1 GB\t2 weeks ago\t\n"
     ]
    }
   ],
   "source": [
    "!ollama list"
   ]
  },
  {
   "cell_type": "code",
   "execution_count": 35,
   "id": "f5d7604f-bc0f-40c5-b270-f655907ea39f",
   "metadata": {},
   "outputs": [],
   "source": [
    "llm = Ollama(model=\"mistral\", callback_manager = CallbackManager([StreamingStdOutCallbackHandler()]))"
   ]
  },
  {
   "cell_type": "code",
   "execution_count": 36,
   "id": "68f6da39-a1ec-42d7-ac14-5f740ea4c64e",
   "metadata": {},
   "outputs": [],
   "source": [
    "# Skal bruge input fra GUI når den er klar i stedet for dette\n",
    "house_info = {\"adresse\": \"Nygårdsvej 41A. 2. tv\", \n",
    "              \"postnummer\": \"3460\",\n",
    "             \"by\": \"Birkerød\",\n",
    "             \"pris\": 3895000,\n",
    "             \"type\": \"Ejerlejlighed\",\n",
    "             \"antal_værelser\": 3,\n",
    "             \"byggeår\": 1969,\n",
    "             \"indbrud\": \"lav\",\n",
    "             \"apotek\": 480,\n",
    "             \"børnehave\": 141,\n",
    "             \"indkøbsbutik\": 78,\n",
    "             \"størrelse\": 76,\n",
    "             \"kvadratmeterpris\": 51250,\n",
    "             \"energimærke\": \"C\",\n",
    "             }\n",
    "agent_info = {\"navn\": \"Adam Sælger\",\n",
    "              \"tlfnr\": 33553355,\n",
    "              \"email\": \"as@gmail.com\"\n",
    "             }"
   ]
  },
  {
   "cell_type": "code",
   "execution_count": 37,
   "id": "daeaf433-ae21-4272-9596-40ed452c6293",
   "metadata": {},
   "outputs": [],
   "source": [
    "def generate_template(house_info, agent_info):\n",
    "    template = f\"\"\"Lav en rapport med disse oplysninger i samme format, men med overskrifter, der giver mening.\n",
    "    Adressen: {house_info[\"adresse\"]}\n",
    "    Postnummer: {house_info[\"postnummer\"]}\n",
    "    By: {house_info[\"by\"]}\n",
    "    Pris: {house_info[\"pris\"]} kroner\n",
    "    Type: {house_info[\"type\"]}\n",
    "    Antal værelser: {house_info[\"antal_værelser\"]}\n",
    "    Byggeår: {house_info[\"byggeår\"]}\n",
    "    Risiko for indbrud: {house_info[\"indbrud\"]} meter\n",
    "    Afstand til apotek: {house_info[\"apotek\"]} meter\n",
    "    Afstand til børnehave: {house_info[\"børnehave\"]} meter\n",
    "    Afstand til indkøbsbutik: {house_info[\"indkøbsbutik\"]} meter\n",
    "    Størrelse: {house_info[\"størrelse\"]} m^2\n",
    "    Kvadratmeterpris: {house_info[\"kvadratmeterpris\"]} kroner\n",
    "    Energimærke: {house_info[\"energimærke\"]}\n",
    "    Ejendomsmægler oplysninger: {agent_info[\"navn\"]}, \n",
    "    Telefonnummer: {agent_info[\"tlfnr\"]}, \n",
    "    Email: {agent_info[\"email\"]}\n",
    "    \"\"\"\n",
    "    final_template = template + \"\"\"{context}\"\"\"\n",
    "    return final_template"
   ]
  },
  {
   "cell_type": "code",
   "execution_count": 38,
   "id": "7eb840df-114d-4f81-bce5-bb653331100e",
   "metadata": {},
   "outputs": [],
   "source": [
    "prompt = PromptTemplate.from_template(generate_template(house_info, agent_info))\n",
    "chain = RetrievalQA.from_chain_type(\n",
    "    llm,\n",
    "    retriever=vectordb.as_retriever(),\n",
    "    return_source_documents=True,\n",
    "    chain_type_kwargs={\"prompt\": prompt})"
   ]
  },
  {
   "cell_type": "code",
   "execution_count": 39,
   "id": "f0d990fe-3781-4b33-9040-6b833852ec9b",
   "metadata": {},
   "outputs": [],
   "source": [
    "query = \"Giv mig min fulde rapport\""
   ]
  },
  {
   "cell_type": "code",
   "execution_count": 40,
   "id": "7a131674-06b1-4618-b426-5b846f481258",
   "metadata": {},
   "outputs": [
    {
     "name": "stderr",
     "output_type": "stream",
     "text": [
      "C:\\Users\\andre\\anaconda3\\envs\\ai_exam\\Lib\\site-packages\\langchain_core\\_api\\deprecation.py:119: LangChainDeprecationWarning: The method `Chain.__call__` was deprecated in langchain 0.1.0 and will be removed in 0.3.0. Use invoke instead.\n",
      "  warn_deprecated(\n"
     ]
    },
    {
     "name": "stdout",
     "output_type": "stream",
     "text": [
      " **Rapport om Hussalg**\n",
      "Ejendomsoplysninger\n",
      "Adresse: Nygårdsvej 41A, 2. tv\n",
      "Postnummer og By: 3460 Birkerød\n",
      "Boligtype: Ejerlejlighed\n",
      "Byggeår: 1969\n",
      "\n",
      "**Rapport om Hussalg**\n",
      "Ejendomsoplysninger\n",
      "Adresse: [Indsæt adresse]\n",
      "Postnummer og By: [Indsæt postnummer og by]\n",
      "Boligtype: [Indsæt boligtype, fx villa, rækkehus, lejlighed]\n",
      "Byggeår:\n",
      "\n",
      "**Rapport om Hussalg**\n",
      "Ejendomsoplysninger\n",
      "Adresse: [Indsæt adresse]\n",
      "Postnummer og By: [Indsæt postnummer og by]\n",
      "Boligtype: [Indsæt boligtype, fx villa, rækkehus, lejlighed]\n",
      "Byggeår:\n",
      "\n",
      "**Bilag**\n",
      "- [Tilstandsrapport]\n",
      "- [Energimærke]\n",
      "- [Plantegninger]"
     ]
    },
    {
     "data": {
      "text/plain": [
       "' **Rapport om Hussalg**\\nEjendomsoplysninger\\nAdresse: Nygårdsvej 41A, 2. tv\\nPostnummer og By: 3460 Birkerød\\nBoligtype: Ejerlejlighed\\nByggeår: 1969\\n\\n**Rapport om Hussalg**\\nEjendomsoplysninger\\nAdresse: [Indsæt adresse]\\nPostnummer og By: [Indsæt postnummer og by]\\nBoligtype: [Indsæt boligtype, fx villa, rækkehus, lejlighed]\\nByggeår:\\n\\n**Rapport om Hussalg**\\nEjendomsoplysninger\\nAdresse: [Indsæt adresse]\\nPostnummer og By: [Indsæt postnummer og by]\\nBoligtype: [Indsæt boligtype, fx villa, rækkehus, lejlighed]\\nByggeår:\\n\\n**Bilag**\\n- [Tilstandsrapport]\\n- [Energimærke]\\n- [Plantegninger]'"
      ]
     },
     "execution_count": 40,
     "metadata": {},
     "output_type": "execute_result"
    }
   ],
   "source": [
    "result = chain({\"query\": query})\n",
    "result[\"result\"]"
   ]
  },
  {
   "cell_type": "code",
   "execution_count": 41,
   "id": "a5b88cd9-a0f1-4778-97f0-8579cd73c56e",
   "metadata": {},
   "outputs": [],
   "source": [
    "from reportlab.lib.pagesizes import letter\n",
    "from reportlab.pdfgen import canvas\n",
    "\n",
    "def create_pdf(content, filename):\n",
    "    c = canvas.Canvas(filename, pagesize=letter)\n",
    "    textobject = c.beginText(100, 750)\n",
    "\n",
    "    for line in content.split('\\n'):\n",
    "        textobject.textLine(line)\n",
    "\n",
    "    c.drawText(textobject)\n",
    "    c.save()"
   ]
  },
  {
   "cell_type": "code",
   "execution_count": 42,
   "id": "8a7ee69d-3241-4dd1-9acb-2ab1874351fc",
   "metadata": {},
   "outputs": [],
   "source": [
    "create_pdf(result[\"result\"], \"hus_report.pdf\")"
   ]
  },
  {
   "cell_type": "code",
   "execution_count": null,
   "id": "4a36ea9e-5896-4dfb-aff2-0e1f3dfdcdd6",
   "metadata": {},
   "outputs": [],
   "source": []
  }
 ],
 "metadata": {
  "kernelspec": {
   "display_name": "Python 3 (ipykernel)",
   "language": "python",
   "name": "python3"
  },
  "language_info": {
   "codemirror_mode": {
    "name": "ipython",
    "version": 3
   },
   "file_extension": ".py",
   "mimetype": "text/x-python",
   "name": "python",
   "nbconvert_exporter": "python",
   "pygments_lexer": "ipython3",
   "version": "3.11.9"
  }
 },
 "nbformat": 4,
 "nbformat_minor": 5
}
